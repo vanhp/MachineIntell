{
 "cells": [
  {
   "cell_type": "code",
   "execution_count": 1,
   "id": "6833eb8b-3fb0-436a-a5bb-943d4ff1da3b",
   "metadata": {},
   "outputs": [],
   "source": [
    "using OMEinsum, LinearAlgebra,SymEngine\n",
    "\n",
    "# OMEinsum.asarray(a::Number, ::Diagonal) = fill(a,())"
   ]
  },
  {
   "cell_type": "code",
   "execution_count": 2,
   "id": "c185f71f-e0d1-4eb0-931e-55158a715ff3",
   "metadata": {},
   "outputs": [],
   "source": [
    "# ein\"ij -> \"(Diagonal([1,2,3]))"
   ]
  },
  {
   "cell_type": "code",
   "execution_count": 3,
   "id": "51f79504-d724-4091-8451-d95533ce5eaa",
   "metadata": {},
   "outputs": [],
   "source": [
    "# function OMEinsum.einsum(::OMEinsum.Sum, ixs, iy, xs::Tuple{<:Diagonal}, size_dict::Dict)\n",
    "#     length(iy) == 1 && return diag(xs[1])\n",
    "#     return sum(diag(xs[1]))\n",
    "# end"
   ]
  },
  {
   "cell_type": "code",
   "execution_count": 4,
   "id": "c838a4a1-d8cf-4717-ad0e-e3d6bccbb4ba",
   "metadata": {},
   "outputs": [],
   "source": [
    "# ein\"ij -> i\"(Diagonal([1,2,3]))"
   ]
  },
  {
   "cell_type": "code",
   "execution_count": 5,
   "id": "22d26e83",
   "metadata": {},
   "outputs": [],
   "source": [
    "# fish = fill(Basic(:🐟), 2, 3, 2)"
   ]
  },
  {
   "cell_type": "code",
   "execution_count": 6,
   "id": "c301bdad-b32a-49c0-9dca-f718d4f6e60f",
   "metadata": {},
   "outputs": [],
   "source": [
    "# catty = fill(Basic(:🐱), 2, 2)"
   ]
  },
  {
   "cell_type": "code",
   "execution_count": 7,
   "id": "025c851d",
   "metadata": {},
   "outputs": [
    {
     "data": {
      "text/plain": [
       "3×3 Matrix{Basic}:\n",
       " 🐍  🐍  🐍\n",
       " 🐍  🐍  🐍\n",
       " 🐍  🐍  🐍"
      ]
     },
     "metadata": {},
     "output_type": "display_data"
    }
   ],
   "source": [
    "#| label: snake\n",
    "snake = fill(Basic(:🐍), 3, 3)"
   ]
  },
  {
   "cell_type": "code",
   "execution_count": 8,
   "id": "98690f0f",
   "metadata": {},
   "outputs": [],
   "source": [
    "# medicine = ein\"ij,jki,kk->k\"(catty, fish, snake)"
   ]
  },
  {
   "cell_type": "code",
   "execution_count": 9,
   "id": "0d74d0f8",
   "metadata": {},
   "outputs": [],
   "source": [
    "# ein\"ik,kj -> ij\"(catty, catty) # multiply two matrices `a` and `b`"
   ]
  },
  {
   "cell_type": "code",
   "execution_count": 10,
   "id": "747a1613",
   "metadata": {},
   "outputs": [
    {
     "data": {
      "text/plain": [
       "5×5 Matrix{Basic}:\n",
       " 🐍   0   0   0   0\n",
       "  0  🐍   0   0   0\n",
       "  0   0  🐍   0   0\n",
       "  0   0   0  🐍   0\n",
       "  0   0   0   0  🐍"
      ]
     },
     "metadata": {},
     "output_type": "display_data"
    }
   ],
   "source": [
    "#| label: diagonal_mat\n",
    "\n",
    "ein\"->ii\"(asarray(snake[1,1]), size_info=Dict('i'=>5)) # get 5 x 5 identity matrix"
   ]
  },
  {
   "cell_type": "code",
   "execution_count": 11,
   "id": "16834aa6",
   "metadata": {},
   "outputs": [],
   "source": []
  }
 ],
 "metadata": {
  "kernelspec": {
   "display_name": "Julia 1.9.0",
   "language": "julia",
   "name": "julia-1.9"
  },
  "language_info": {
   "file_extension": ".jl",
   "mimetype": "application/julia",
   "name": "julia",
   "version": "1.9.0"
  }
 },
 "nbformat": 4,
 "nbformat_minor": 5
}
