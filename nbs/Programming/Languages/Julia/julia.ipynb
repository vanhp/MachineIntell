{
  "cells": [
    {
      "cell_type": "raw",
      "metadata": {},
      "source": [
        "---\n",
        "title: Julia\n",
        "subtitle: Julia language\n",
        "about:\n",
        "  template: marquee\n",
        "  image: ../../../images/gradientv12.jpg\n",
        "  links:\n",
        "    - icon: twitter\n",
        "      text: twitter\n",
        "      href: 'https://twitter.com'\n",
        "    - icon: github\n",
        "      text: Github\n",
        "      href: 'https://github.com'\n",
        "listing:\n",
        "  sort: date desc\n",
        "  contents: posts\n",
        "  sort-ui: false\n",
        "  filter-ui: false\n",
        "  categories: true\n",
        "  feed: true\n",
        "format:\n",
        "  html:\n",
        "    code-fold: true\n",
        "execute:\n",
        "  cache: true\n",
        "page-layout: full\n",
        "---"
      ],
      "id": "14d6489f"
    },
    {
      "cell_type": "markdown",
      "metadata": {},
      "source": [
        "## Einstein Summation in Julia\n",
        "![](../../../images/code3.png)\n",
        "\n",
        "Here is the newest einsum call [OMEinsum.jl](https://github.com/under-Peter/OMEinsum.jl) package in Julia. It's implement using about 20 lines of Julia code! Amazing.\n"
      ],
      "id": "01db6bd9"
    },
    {
      "cell_type": "markdown",
      "metadata": {},
      "source": [
        "## Einsum \n",
        "\n",
        "\n",
        "```{julia}```{julia}"
      ],
      "id": "e6d3052f"
    },
    {
      "cell_type": "code",
      "metadata": {},
      "source": [
        "```juliadiagonal_matdiagonal_mat\n",
        "```juliadiagonal_matdiagonal_mat\n",
        "#| label: fig-parametric\n",
        "```juliadiagonal_matdiagonal_mat\n",
        "```juliadiagonal_matdiagonal_mat\n",
        "```juliadiagonal_matdiagonal_mat\n",
        "#| fig-cap: \"Parametric Plots\"\n",
        "\n",
        "using Plots, OMEinsum, LinearAlgebra, SymEngine\n",
        "\n",
        "plot(sin, \n",
        "     x->sin(2x), \n",
        "     0, \n",
        "     2π, \n",
        "     leg=false, \n",
        "     fill=(0,:lavender))"
      ],
      "id": "2cd2612e",
      "execution_count": null,
      "outputs": []
    },
    {
      "cell_type": "code",
      "metadata": {},
      "source": [
        "using OMEinsum, LinearAlgebra\n",
        "\n",
        "OMEinsum.asarray(a::Number, ::Diagonal) = fill(a,())\n",
        "ein\"ij -> \"(Diagonal([1,2,3]))\n",
        "\n",
        "function OMEinsum.einsum(::OMEinsum.Sum, ixs, iy, xs::Tuple{<:Diagonal}, size_dict::Dict)\n",
        "    length(iy) == 1 && return diag(xs[1])\n",
        "    return sum(diag(xs[1]))\n",
        "end"
      ],
      "id": "23bd8c29",
      "execution_count": null,
      "outputs": []
    },
    {
      "cell_type": "code",
      "metadata": {},
      "source": [
        "ein\"ij -> i\"(Diagonal([1,2,3]))"
      ],
      "id": "f46d2ecd",
      "execution_count": null,
      "outputs": []
    },
    {
      "cell_type": "markdown",
      "metadata": {},
      "source": [
        "```juliadiagonal_matdiagonal_mat"
      ],
      "id": "5379a042"
    },
    {
      "cell_type": "code",
      "metadata": {},
      "source": [
        "catty = fill(Basic(:🐱), 2, 2)"
      ],
      "id": "5d2687f2",
      "execution_count": null,
      "outputs": []
    },
    {
      "cell_type": "code",
      "metadata": {},
      "source": [
        "fish = fill(Basic(:🐟), 2, 3, 2)"
      ],
      "id": "2f193d77",
      "execution_count": null,
      "outputs": []
    },
    {
      "cell_type": "code",
      "metadata": {},
      "source": [
        "snake = fill(Basic(:🐍), 3, 3)"
      ],
      "id": "108aa188",
      "execution_count": null,
      "outputs": []
    },
    {
      "cell_type": "code",
      "metadata": {},
      "source": [
        "medicine = ein\"ij,jki,kk->k\"(catty, fish, snake)"
      ],
      "id": "40213e14",
      "execution_count": null,
      "outputs": []
    },
    {
      "cell_type": "markdown",
      "metadata": {},
      "source": [
        "```juliadiagonal_matdiagonal_mat"
      ],
      "id": "2acec5f4"
    },
    {
      "cell_type": "code",
      "metadata": {},
      "source": [
        "ein\"ik,kj -> ij\"(catty, catty) # multiply two matrices `a` and `b`\n",
        "```juliadiagonal_matdiagonal_mat"
      ],
      "id": "0366a2fe",
      "execution_count": null,
      "outputs": []
    },
    {
      "cell_type": "code",
      "metadata": {},
      "source": [
        "```juliadiagonal_matdiagonal_mat\n",
        "\n",
        "ein\"->ii\"(asarray(snake[1,1]), size_info=Dict('i'=>5)) # get 5 x 5 identity matrix"
      ],
      "id": "2ba1eccd",
      "execution_count": null,
      "outputs": []
    },
    {
      "cell_type": "markdown",
      "metadata": {},
      "source": [
        "```juliadiagonal_matdiagonal_mat\n",
        "```juliadiagonal_matdiagonal_mat\n",
        "```juliadiagonal_matdiagonal_mat\n",
        "\n",
        "```juliadiagonal_matdiagonal_mat\n",
        "```juliadiagonal_matdiagonal_mat\n",
        "```juliadiagonal_matdiagonal_mat\n",
        "```juliadiagonal_matdiagonal_mat\n",
        "#link to julia ipynb\n",
        "ein\"->ii\"(asarray(snake[1,1]), size_info=Dict('i'=>5)) # get 5 x 5 identity matrix\n",
        "```\n",
        "<!-- 12A0366C:julia_einsum.ipynb#diagonal_mat |  | echo:false,warning:false,asis:true,eval:false -->\n",
        "\n",
        "\n",
        "diagonal_matdiagonal_matdiagonal_matdiagonal_mat\n",
        "```\n",
        "\n",
        "```juliadiagonal_matdiagonal_mat\n",
        "```juliadiagonal_matdiagonal_mat\n",
        "\n",
        "```juliadiagonal_matdiagonal_mat\n",
        "#link to julia ipynb\n",
        "```\n",
        "\n",
        "```juliadiagonal_matdiagonal_mat\n",
        "```juliadiagonal_matdiagonal_mat\n",
        "#link to julia ipynb\n",
        "```\n",
        "```juliadiagonal_matdiagonal_mat\n",
        "\n",
        "```juliadiagonal_matdiagonal_mat\n",
        "#link to julia ipynb"
      ],
      "id": "ec136bf5"
    }
  ],
  "metadata": {
    "kernelspec": {
      "name": "julia-1.9",
      "language": "julia",
      "display_name": "Julia 1.9.0"
    }
  },
  "nbformat": 4,
  "nbformat_minor": 5
}