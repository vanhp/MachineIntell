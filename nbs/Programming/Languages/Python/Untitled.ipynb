{
 "cells": [
  {
   "cell_type": "code",
   "execution_count": 1,
   "id": "0013c66d-ed71-451b-9f94-ff0503889dae",
   "metadata": {},
   "outputs": [
    {
     "ename": "LoadError",
     "evalue": "ArgumentError: Package OMEinsum not found in current path.\n- Run `import Pkg; Pkg.add(\"OMEinsum\")` to install the OMEinsum package.",
     "output_type": "error",
     "traceback": [
      "ArgumentError: Package OMEinsum not found in current path.\n- Run `import Pkg; Pkg.add(\"OMEinsum\")` to install the OMEinsum package.",
      "",
      "Stacktrace:",
      " [1] macro expansion",
      "   @ ./loading.jl:1595 [inlined]",
      " [2] macro expansion",
      "   @ ./lock.jl:267 [inlined]",
      " [3] require(into::Module, mod::Symbol)",
      "   @ Base ./loading.jl:1576"
     ]
    }
   ],
   "source": [
    "using OMEinsum, LinearAlgebra\n",
    "\n",
    "OMEinsum.asarray(a::Number, ::Diagonal) = fill(a,())"
   ]
  },
  {
   "cell_type": "code",
   "execution_count": null,
   "id": "0dc8210f-e21b-43e5-a7dc-dd600e3af2f7",
   "metadata": {},
   "outputs": [],
   "source": []
  }
 ],
 "metadata": {
  "kernelspec": {
   "display_name": "Julia 1.9.0",
   "language": "julia",
   "name": "julia-1.9"
  },
  "language_info": {
   "file_extension": ".jl",
   "mimetype": "application/julia",
   "name": "julia",
   "version": "1.9.0"
  }
 },
 "nbformat": 4,
 "nbformat_minor": 5
}
