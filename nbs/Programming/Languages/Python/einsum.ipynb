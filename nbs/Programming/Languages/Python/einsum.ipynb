{
 "cells": [
  {
   "attachments": {},
   "cell_type": "markdown",
   "metadata": {},
   "source": [
    "# My Notes "
   ]
  },
  {
   "attachments": {},
   "cell_type": "markdown",
   "metadata": {},
   "source": [
    "## Research papers of interest\n",
    "These papers are stored at the Arxiv website, they are mostly have not been through peer reviews because they are so new. On the other hand, they are follow up and performed by others researchers and interested users on the internet, if there are problems these will be report almost instantly on the social network.\n",
    "\n",
    "[diffedit](https://arxiv.org/abs/2210.11427)  \n",
    "[Progressive Distillation for Fast Sampling of Diffusion Models](https://arxiv.org/abs/2202.00512)  \n",
    "[On Distillation of Guided Diffusion Models](https://arxiv.org/abs/2210.03142)  \n",
    "[Imagic: Text-Based Real Image Editing with Diffusion Models](https://arxiv.org/abs/2210.09276)  \n",
    "\n"
   ]
  },
  {
   "attachments": {},
   "cell_type": "markdown",
   "metadata": {},
   "source": [
    "## Eistein Summation\n",
    "\n",
    "A technique for convenient and simplify the writing of syntax for many operation in linear algebra\n",
    "\n",
    "- Matrix multiplication\n",
    "- Element-wise matrix operation\n",
    "- Permutation of matrix\n",
    "- Dot product of matrix\n",
    "- Outer product of matrix\n",
    "- Summation of matrix\n",
    "- Batch multiplication of matrix (permute input to match function calls ordering)\n",
    "\n",
    "It's also speedup some of the above operation especially operation that can be combined into single call\n",
    "\n",
    "The eisum is a build-in feature of most Machine learning frameworks, e.g. Pytorch, Tensorflow, Flux..."
   ]
  },
  {
   "attachments": {},
   "cell_type": "markdown",
   "metadata": {},
   "source": [
    "How does it work?\n",
    "\n",
    "Here is the matrix multiplication  \n",
    "$$ M_{ij} = \\sum{A_{ik}B_{kj}} = A_{ik}B_{kj}$$"
   ]
  },
  {
   "cell_type": "code",
   "execution_count": 1,
   "metadata": {},
   "outputs": [],
   "source": [
    "import numpy as np"
   ]
  },
  {
   "cell_type": "code",
   "execution_count": 2,
   "metadata": {},
   "outputs": [
    {
     "data": {
      "text/plain": [
       "((3, 5), (5, 2), (3, 2))"
      ]
     },
     "execution_count": 2,
     "metadata": {},
     "output_type": "execute_result"
    }
   ],
   "source": [
    "A = np.random.rand(3,5)\n",
    "B = np.random.rand(5,2)\n",
    "M = np.empty((3,2))\n",
    "\n",
    "A.shape,B.shape,M.shape"
   ]
  },
  {
   "cell_type": "code",
   "execution_count": 3,
   "metadata": {},
   "outputs": [
    {
     "data": {
      "text/plain": [
       "(array([[0.29744053, 0.69604914, 0.67117175, 0.26387973, 0.09389456],\n",
       "        [0.42746273, 0.09049403, 0.90969471, 0.29861237, 0.2264451 ],\n",
       "        [0.55364468, 0.50495913, 0.65850403, 0.06964918, 0.31421708]]),\n",
       " array([[0.78620971, 0.20917867],\n",
       "        [0.20291897, 0.5199813 ],\n",
       "        [0.48062955, 0.75832942],\n",
       "        [0.31415192, 0.1330993 ],\n",
       "        [0.21116944, 0.61648433]]),\n",
       " array([[1.13610772e-313, 0.00000000e+000],\n",
       "        [0.00000000e+000, 0.00000000e+000],\n",
       "        [0.00000000e+000, 0.00000000e+000]]))"
      ]
     },
     "execution_count": 3,
     "metadata": {},
     "output_type": "execute_result"
    }
   ],
   "source": [
    "A,B,M"
   ]
  },
  {
   "cell_type": "code",
   "execution_count": 4,
   "metadata": {},
   "outputs": [],
   "source": [
    "np.set_printoptions(precision=2, linewidth=140)"
   ]
  },
  {
   "attachments": {},
   "cell_type": "markdown",
   "metadata": {},
   "source": [
    "### Code:  \n",
    "Coding as loop of the matrix multiplication above   \n",
    "where the row is i and column is j, and k is the inner dimension of both matrix that must be equal and this index will be summed and disappeared by the operation of matrix rule"
   ]
  },
  {
   "cell_type": "code",
   "execution_count": 5,
   "metadata": {},
   "outputs": [
    {
     "name": "stdout",
     "output_type": "stream",
     "text": [
      "the matrix is: [[0.8  1.03]\n",
      " [0.93 1.01]\n",
      " [0.94 1.08]]\n"
     ]
    }
   ],
   "source": [
    "for i in range(3):\n",
    "    for j in range(2):\n",
    "        total = 0\n",
    "        for k in range(5):\n",
    "            total += A[i,k] * B[k,j]\n",
    "        M[i,j] = total\n",
    "\n",
    "print(f'the matrix is: {M}')"
   ]
  },
  {
   "attachments": {},
   "cell_type": "markdown",
   "metadata": {},
   "source": [
    "Using the Eisum method"
   ]
  },
  {
   "cell_type": "code",
   "execution_count": 6,
   "metadata": {},
   "outputs": [
    {
     "name": "stdout",
     "output_type": "stream",
     "text": [
      "the matix is : [[0.8  1.03]\n",
      " [0.93 1.01]\n",
      " [0.94 1.08]]\n"
     ]
    }
   ],
   "source": [
    "\n",
    "# the i and j are free index\n",
    "# the k is sum index since it will be summed away after the operation\n",
    "M1 = np.einsum('ik,kj->ij',A,B)\n",
    "\n",
    "print(f'the matix is : {M1}')"
   ]
  },
  {
   "attachments": {},
   "cell_type": "markdown",
   "metadata": {},
   "source": [
    "### Dot product\n",
    "Vector or matrix multiplicaton $u \\cdot v$  that result of scalar value  "
   ]
  },
  {
   "attachments": {},
   "cell_type": "markdown",
   "metadata": {},
   "source": [
    "### Outer product \n",
    "vector multiply by vector that result in a matrix $u \\otimes v$  \n",
    "\n",
    "Example 2\n",
    "- Using the free index in the output  \n",
    "- No summation index  "
   ]
  },
  {
   "cell_type": "code",
   "execution_count": 7,
   "metadata": {},
   "outputs": [
    {
     "name": "stdout",
     "output_type": "stream",
     "text": [
      "the matrix is: \n",
      "[[0.1  0.09 0.37]\n",
      " [0.17 0.15 0.64]\n",
      " [0.12 0.11 0.45]\n",
      " [0.16 0.14 0.57]\n",
      " [0.02 0.02 0.07]]\n"
     ]
    }
   ],
   "source": [
    "# example 2\n",
    "D = np.random.rand(5)\n",
    "E = np.random.rand(3)\n",
    "out = np.einsum('i,j->ij',D,E)\n",
    "print(f'the matrix is: \\n{out}')"
   ]
  },
  {
   "cell_type": "code",
   "execution_count": 8,
   "metadata": {},
   "outputs": [
    {
     "name": "stdout",
     "output_type": "stream",
     "text": [
      "the matrix is: \n",
      "[[0.1  0.09 0.37]\n",
      " [0.17 0.15 0.64]\n",
      " [0.12 0.11 0.45]\n",
      " [0.16 0.14 0.57]\n",
      " [0.02 0.02 0.07]]\n"
     ]
    }
   ],
   "source": [
    "# loop version\n",
    "for i in range(5):\n",
    "    for j in range(3):\n",
    "        total = 0\n",
    "        total += D[i] * E[j]\n",
    "        out[i,j] = total\n",
    "        \n",
    "print(f'the matrix is: \\n{out}')"
   ]
  },
  {
   "attachments": {},
   "cell_type": "markdown",
   "metadata": {},
   "source": [
    "## The Eisum Rules\n",
    "\n",
    "The free indices: \n",
    "- The index that specify the output\n",
    "\n",
    "The Summation index  \n",
    "- All other indices that appear in the input argument but not show up in the output\n",
    "\n",
    "The General rules:\n",
    "1. Same index in the a different input argument indicate that these indices will be multiplied and the product are outputed\n",
    "``` python\n",
    "    M = np.einsum('ik,kj->ij',A,B)\n",
    "```\n",
    "2. Omitting index indicate the index will be summed together\n",
    "``` python\n",
    "    X = np.ones(3)\n",
    "    Y = np.einsum('i->',X)\n",
    "```\n",
    "3. The unsummed indices may return in any order\n",
    "``` python\n",
    "    D = np.ones((5,4,3))\n",
    "    E = np.einsum('ijk->kji',D)\n",
    "```"
   ]
  },
  {
   "attachments": {},
   "cell_type": "markdown",
   "metadata": {},
   "source": [
    "Operation that benefit from Einsum\n",
    "1. Permutation of Tensors\n",
    "2. Summation\n",
    "3. Column sum\n",
    "4. Row sum\n",
    "5. Matrix-Vector multiplication\n",
    "6. Matrix-Matrix multiplication\n",
    "7. Dot Product the first row with first row of a matrix\n",
    "8. Dot product with matrix (multiplication and add)\n",
    "9. Element-wise multiplication (Hadamard Product) (multiplication no add)\n",
    "10. Outer Product\n",
    "11. Batch matrix multiplicaton e.g. a = 3,2,6 and b = 3,6,3\n",
    "    - want to multiply the matrix of 2x6 with 6x3 matrix\n",
    "    - these matrix must follow the multiplication rule\n",
    "    - the first number  is the batch size they must match, but not count as index \n",
    "    - the torch.bmm function will do the same thing\n",
    "12. Matrix diagonal  \n",
    "    - return the only the diagonal value of the matrix\n",
    "13. Matrix Trace\n",
    "    - summing the value of the diagonal of a matrix"
   ]
  },
  {
   "cell_type": "code",
   "execution_count": 9,
   "metadata": {},
   "outputs": [
    {
     "data": {
      "text/plain": [
       "tensor([[0.44, 0.49, 0.98],\n",
       "        [0.75, 0.81, 0.48]])"
      ]
     },
     "execution_count": 9,
     "metadata": {},
     "output_type": "execute_result"
    }
   ],
   "source": [
    "import torch\n",
    "import numpy as np\n",
    "\n",
    "torch.set_printoptions(precision=2, linewidth=140)\n",
    "\n",
    "X = torch.rand((2,3))\n",
    "X"
   ]
  },
  {
   "attachments": {},
   "cell_type": "markdown",
   "metadata": {},
   "source": [
    "1. Transpose\n",
    "Switching the index of a matrix"
   ]
  },
  {
   "cell_type": "code",
   "execution_count": 10,
   "metadata": {},
   "outputs": [
    {
     "name": "stdout",
     "output_type": "stream",
     "text": [
      "regular: tensor([[0.44, 0.75],\n",
      "        [0.49, 0.81],\n",
      "        [0.98, 0.48]])\n",
      " numpy: tensor([[0.44, 0.75],\n",
      "        [0.49, 0.81],\n",
      "        [0.98, 0.48]]) \n",
      "eisum: tensor([[0.44, 0.75],\n",
      "        [0.49, 0.81],\n",
      "        [0.98, 0.48]])\n"
     ]
    }
   ],
   "source": [
    "# 1. transpose\n",
    "\n",
    "c_ntp = np.transpose(X)\n",
    "c_tp = torch.transpose(X,0,1)\n",
    "cein = torch.einsum('ij->ji',X)\n",
    "print(f'regular: {c_tp}\\n numpy: {c_ntp} \\neisum: {cein}')"
   ]
  },
  {
   "attachments": {},
   "cell_type": "markdown",
   "metadata": {},
   "source": [
    "2. Matrix summation  \n",
    "Summing all value in the matrix that result in a scalar value"
   ]
  },
  {
   "cell_type": "code",
   "execution_count": 11,
   "metadata": {},
   "outputs": [
    {
     "name": "stdout",
     "output_type": "stream",
     "text": [
      "regular: 3.9641716480255127 \n",
      "eisum: 3.9641716480255127\n"
     ]
    }
   ],
   "source": [
    "#2. Summation\n",
    "cma = torch.sum(X)\n",
    "cein = torch.einsum('ij->',X)\n",
    "\n",
    "print(f'regular: {cma} \\neisum: {cein}')"
   ]
  },
  {
   "cell_type": "code",
   "execution_count": 12,
   "metadata": {},
   "outputs": [
    {
     "data": {
      "text/plain": [
       "tensor([[0.44, 0.49, 0.98],\n",
       "        [0.75, 0.81, 0.48]])"
      ]
     },
     "execution_count": 12,
     "metadata": {},
     "output_type": "execute_result"
    }
   ],
   "source": [
    "X"
   ]
  },
  {
   "attachments": {},
   "cell_type": "markdown",
   "metadata": {},
   "source": [
    "Row sum (Top down)\n",
    "\n",
    "Add all values from each row together along the column"
   ]
  },
  {
   "cell_type": "code",
   "execution_count": 13,
   "metadata": {},
   "outputs": [
    {
     "name": "stdout",
     "output_type": "stream",
     "text": [
      "regular: tensor([1.19, 1.30, 1.47]) \n",
      "eisum: tensor([1.19, 1.30, 1.47])\n"
     ]
    }
   ],
   "source": [
    "#4 row summation\n",
    "# sum by columns\n",
    "rows = torch.sum(X,dim=0)\n",
    "cein = torch.einsum('ij->j',X)\n",
    "\n",
    "print(f'regular: {rows} \\neisum: {cein}')"
   ]
  },
  {
   "attachments": {},
   "cell_type": "markdown",
   "metadata": {},
   "source": [
    "Column sum (Left to right)\n",
    "\n",
    "Add all value from each column together along the row"
   ]
  },
  {
   "cell_type": "code",
   "execution_count": 14,
   "metadata": {},
   "outputs": [
    {
     "name": "stdout",
     "output_type": "stream",
     "text": [
      "regular: tensor([1.91, 2.05]) \n",
      "eisum: tensor([1.91, 2.05])\n"
     ]
    }
   ],
   "source": [
    "#3 Column summation\n",
    "# sum by rows\n",
    "c_col = torch.sum(X,dim=1)\n",
    "cein = torch.einsum('ij->i',X)\n",
    "\n",
    "print(f'regular: {c_col} \\neisum: {cein}')"
   ]
  },
  {
   "attachments": {},
   "cell_type": "markdown",
   "metadata": {},
   "source": [
    "5 matrix-vector multiplication  \n",
    "This a non equal dimension multiplication which in Python use broadcasting to padded (duplicate) the vector to have equal size with the matrix before do multiplication"
   ]
  },
  {
   "cell_type": "code",
   "execution_count": 15,
   "metadata": {},
   "outputs": [
    {
     "name": "stdout",
     "output_type": "stream",
     "text": [
      "regular: tensor([0.97]) \n",
      "eisum: tensor([0.97])\n"
     ]
    }
   ],
   "source": [
    "#5 matrix-vector multiplication\n",
    "L = torch.rand((1,3))\n",
    "M = torch.rand((3,))\n",
    "\n",
    "cmm = torch.matmul(L,M)\n",
    "cein = torch.einsum('ij,j->i',L,M)\n",
    "print(f'regular: {cmm} \\neisum: {cein}')\n"
   ]
  },
  {
   "attachments": {},
   "cell_type": "markdown",
   "metadata": {},
   "source": [
    "6 matrix-matrix multiplication  \n",
    "This standard matrix to matrix multiplication which result in another matrix"
   ]
  },
  {
   "cell_type": "code",
   "execution_count": 16,
   "metadata": {},
   "outputs": [
    {
     "name": "stdout",
     "output_type": "stream",
     "text": [
      "regular: tensor([[2., 2., 2.],\n",
      "        [2., 2., 2.],\n",
      "        [2., 2., 2.]]) \n",
      "eisum: tensor([[2., 2., 2.],\n",
      "        [2., 2., 2.],\n",
      "        [2., 2., 2.]])\n"
     ]
    }
   ],
   "source": [
    "#6 matrix-matrix multiplication\n",
    "# torch.einsum('ij,kj->ik',M,M)\n",
    "\n",
    "a = torch.ones((3,2))\n",
    "b = torch.ones((2,3))\n",
    "cmm = torch.matmul(a,b)\n",
    "cein = torch.einsum('ij,jl->il',a,b)\n",
    "print(f'regular: {cmm} \\neisum: {cein}')\n"
   ]
  },
  {
   "cell_type": "code",
   "execution_count": 17,
   "metadata": {},
   "outputs": [
    {
     "data": {
      "text/plain": [
       "tensor([[0.27, 0.87],\n",
       "        [0.41, 1.24],\n",
       "        [0.49, 1.50]])"
      ]
     },
     "execution_count": 17,
     "metadata": {},
     "output_type": "execute_result"
    }
   ],
   "source": [
    "N = torch.rand((3,3))\n",
    "M = torch.rand((2,3))\n",
    "torch.einsum('ij,kj->ik',N,M)"
   ]
  },
  {
   "attachments": {},
   "cell_type": "markdown",
   "metadata": {},
   "source": [
    "Dot product\n",
    "\n",
    "This a matrix multiplication that result in a scalar value. It's usually called multiply add.  \n",
    "since after multiply the row to the column then the sum operation is carry out result as a scalar"
   ]
  },
  {
   "cell_type": "code",
   "execution_count": 18,
   "metadata": {},
   "outputs": [
    {
     "name": "stdout",
     "output_type": "stream",
     "text": [
      "c: tensor([0.03, 0.54, 0.61]), c: torch.Size([3])\n",
      "c_dot: 0.5557287931442261\n",
      "regular: 0.5557287931442261 \n",
      "  eisum: 0.5557287931442261\n"
     ]
    }
   ],
   "source": [
    "# dot product of a matrix (multiply + add)\n",
    "#torch.einsum('ij,ij->',N,N)\n",
    "\n",
    "# c = torch.tensor([2,3])\n",
    "# d = torch.tensor([2,1])\n",
    "c = torch.rand((3))\n",
    "d = torch.rand((3))\n",
    "\n",
    "c_dot = torch.dot(c,d)\n",
    "cein = torch.einsum('i,i->',c,d)\n",
    "\n",
    "print(f'c: {c}, c: {c.shape}')\n",
    "print(f'c_dot: {c_dot}')\n",
    "print(f'regular: {c_dot} \\n  eisum: {cein}')"
   ]
  },
  {
   "cell_type": "code",
   "execution_count": 19,
   "metadata": {},
   "outputs": [
    {
     "data": {
      "text/plain": [
       "tensor(0.54)"
      ]
     },
     "execution_count": 19,
     "metadata": {},
     "output_type": "execute_result"
    }
   ],
   "source": [
    "# dot product of only the first row of a matrix with first row of a matrix\n",
    "torch.einsum('i,i->',N[0],N[0])"
   ]
  },
  {
   "attachments": {},
   "cell_type": "markdown",
   "metadata": {},
   "source": [
    "Element wise multiplication (multiply only)  \n",
    "This is a normal matrix multiplication which different from multiply add or dot product"
   ]
  },
  {
   "cell_type": "code",
   "execution_count": 20,
   "metadata": {},
   "outputs": [
    {
     "name": "stdout",
     "output_type": "stream",
     "text": [
      "regular: tensor([[-0.74,  1.05],\n",
      "        [-0.21, -0.99],\n",
      "        [ 1.41,  0.00]]) \n",
      "  eisum: tensor([[-0.74,  1.05],\n",
      "        [-0.21, -0.99],\n",
      "        [ 1.41,  0.00]])\n"
     ]
    }
   ],
   "source": [
    "# element wise multiplication (multiply only)\n",
    "# torch.einsum('ij,ij->ij',N,N)\n",
    "\n",
    "c = torch.randn((3,2))\n",
    "d = torch.randn((3,2))\n",
    "cmm = c * d\n",
    "cein = torch.einsum('ij,ij->ij',c,d)\n",
    "print(f'regular: {cmm} \\n  eisum: {cein}')"
   ]
  },
  {
   "attachments": {},
   "cell_type": "markdown",
   "metadata": {},
   "source": [
    "Outer Product\n",
    "\n",
    "Multiply vector of different size to get a matrix as output\n",
    "In eisum must use different letter to represent size different\n"
   ]
  },
  {
   "cell_type": "code",
   "execution_count": 21,
   "metadata": {},
   "outputs": [
    {
     "name": "stdout",
     "output_type": "stream",
     "text": [
      "x: tensor([0.37, 0.62, 0.73]), x: torch.Size([3])\n",
      "y: tensor([0.06, 0.51, 0.01, 0.66, 0.49]), y: torch.Size([5])\n",
      "regular: tensor([[0.02, 0.19, 0.00, 0.24, 0.18],\n",
      "        [0.04, 0.31, 0.01, 0.41, 0.30],\n",
      "        [0.04, 0.37, 0.01, 0.48, 0.36]]) \n",
      "  eisum: tensor([[0.02, 0.19, 0.00, 0.24, 0.18],\n",
      "        [0.04, 0.31, 0.01, 0.41, 0.30],\n",
      "        [0.04, 0.37, 0.01, 0.48, 0.36]])\n"
     ]
    }
   ],
   "source": [
    "# outer product\n",
    "x = torch.rand(3)\n",
    "y = torch.rand(5)\n",
    "print(f'x: {x}, x: {x.shape}')\n",
    "print(f'y: {y}, y: {y.shape}')\n",
    "\n",
    "c_outer = torch.outer(x,y)\n",
    "cein = torch.einsum('i,j->ij',x,y)\n",
    "print(f'regular: {c_outer} \\n  eisum: {cein}')"
   ]
  },
  {
   "attachments": {},
   "cell_type": "markdown",
   "metadata": {},
   "source": [
    "Batch matrix multiplication  \n",
    "Multiply matrix by the set of n, where n is batch size  \n",
    "\n",
    "want to multiply the matrix of 2x6 with 6x3 matrix  \n",
    "the first number is the batch size must match but not count as index so i is ignore  \n",
    "the mxn * nxp must match with n"
   ]
  },
  {
   "cell_type": "code",
   "execution_count": 22,
   "metadata": {},
   "outputs": [
    {
     "name": "stdout",
     "output_type": "stream",
     "text": [
      "regular: tensor([[[1.33, 1.04, 0.80],\n",
      "         [1.46, 1.10, 0.66]],\n",
      "\n",
      "        [[1.42, 1.49, 2.23],\n",
      "         [0.99, 1.02, 1.58]],\n",
      "\n",
      "        [[1.32, 2.04, 1.41],\n",
      "         [0.82, 1.90, 1.11]]])\n",
      " numpy: tensor([[[1.33, 1.04, 0.80],\n",
      "         [1.46, 1.10, 0.66]],\n",
      "\n",
      "        [[1.42, 1.49, 2.23],\n",
      "         [0.99, 1.02, 1.58]],\n",
      "\n",
      "        [[1.32, 2.04, 1.41],\n",
      "         [0.82, 1.90, 1.11]]]) \n",
      "  eisum: tensor([[[1.33, 1.04, 0.80],\n",
      "         [1.46, 1.10, 0.66]],\n",
      "\n",
      "        [[1.42, 1.49, 2.23],\n",
      "         [0.99, 1.02, 1.58]],\n",
      "\n",
      "        [[1.32, 2.04, 1.41],\n",
      "         [0.82, 1.90, 1.11]]])\n"
     ]
    }
   ],
   "source": [
    "# batch matrix multiplicaton\n",
    "# want to multiply the matrix of 2x6 with 6x3 matrix\n",
    "# the first number is the batch size must match but not count as index so i is ignore\n",
    "# the mxn * nxp must match with n\n",
    "R = torch.rand(3,2,6)\n",
    "S = torch.rand(3,6,3)\n",
    "cmn = np.matmul(R,S)\n",
    "cmm = torch.matmul(R,S)\n",
    "\n",
    "cein = torch.einsum('ijk,ikl->ijl',R,S)\n",
    "\n",
    "print(f'regular: {cmm}\\n numpy: {cmn} \\n  eisum: {cein}')"
   ]
  },
  {
   "attachments": {},
   "cell_type": "markdown",
   "metadata": {},
   "source": [
    "Diagonal Matrix\n",
    "return the vector of value along the diagonal of a matrix"
   ]
  },
  {
   "cell_type": "code",
   "execution_count": 23,
   "metadata": {},
   "outputs": [
    {
     "name": "stdout",
     "output_type": "stream",
     "text": [
      "T: tensor([[0.45, 0.36, 0.29],\n",
      "        [0.64, 0.86, 0.76],\n",
      "        [0.19, 0.17, 0.62]]) \n",
      "T shape: torch.Size([3, 3])\n",
      "regular: tensor([0.45, 0.86, 0.62]) \n",
      "  eisum: tensor([0.45, 0.86, 0.62])\n"
     ]
    }
   ],
   "source": [
    "# Diagonal matrix return only the diagonal value of a matrix\n",
    "\n",
    "T = torch.rand(3,3)\n",
    "\n",
    "cein = torch.einsum('ii->i',T)\n",
    "print(f'T: {T} \\nT shape: {T.shape}')\n",
    "c_diag = torch.diag(T)\n",
    "\n",
    "print(f'regular: {c_diag} \\n  eisum: {cein}')\n"
   ]
  },
  {
   "cell_type": "code",
   "execution_count": 24,
   "metadata": {},
   "outputs": [],
   "source": [
    "# torch.einsum('ii->i',T)"
   ]
  },
  {
   "attachments": {},
   "cell_type": "markdown",
   "metadata": {},
   "source": [
    "Trace\n",
    "\n",
    "Take the sum of all values along the diagonal axix of a matrix"
   ]
  },
  {
   "cell_type": "code",
   "execution_count": 25,
   "metadata": {},
   "outputs": [
    {
     "name": "stdout",
     "output_type": "stream",
     "text": [
      "T: tensor([[0.45, 0.36, 0.29],\n",
      "        [0.64, 0.86, 0.76],\n",
      "        [0.19, 0.17, 0.62]])\n",
      "regular: 1.9370249509811401 \n",
      "  eisum: 1.9370249509811401\n"
     ]
    }
   ],
   "source": [
    "# matrix trace\n",
    "\n",
    "c_trace = torch.trace(T)\n",
    "cein = torch.einsum('ii->',T)\n",
    "print(f'T: {T}')\n",
    "print(f'regular: {c_trace} \\n  eisum: {cein}')"
   ]
  },
  {
   "attachments": {},
   "cell_type": "markdown",
   "metadata": {},
   "source": [
    "Tensor Contraction  \n",
    "Shrinking the dimension of the tensor  \n",
    "must provide the dimension to be ignored\n"
   ]
  },
  {
   "cell_type": "code",
   "execution_count": 26,
   "metadata": {},
   "outputs": [
    {
     "name": "stdout",
     "output_type": "stream",
     "text": [
      "value: torch.Size([3, 4, 2]) value2: torch.Size([4, 3, 6])\n",
      "regular: tensor([[2.85, 2.90, 2.53, 3.08, 2.98, 3.10],\n",
      "        [2.32, 2.17, 2.23, 2.37, 2.47, 2.86]]) \n",
      "  eisum: tensor([[2.85, 2.90, 2.53, 3.08, 2.98, 3.10],\n",
      "        [2.32, 2.17, 2.23, 2.37, 2.47, 2.86]])\n"
     ]
    }
   ],
   "source": [
    "o = torch.rand((3,4,2))\n",
    "p = torch.rand((4,3,6))\n",
    "print(f'value: {o.shape} value2: {p.shape}')\n",
    "\n",
    "c_tdot = torch.tensordot(o,p,dims=([1,0],[0,1]))\n",
    "cein = torch.einsum('ijk,jil->kl',o,p)\n",
    "print(f'regular: {c_tdot} \\n  eisum: {cein}')"
   ]
  }
 ],
 "metadata": {
  "kernelspec": {
   "display_name": "Python 3",
   "language": "python",
   "name": "python3"
  },
  "language_info": {
   "codemirror_mode": {
    "name": "ipython",
    "version": 3
   },
   "file_extension": ".py",
   "mimetype": "text/x-python",
   "name": "python",
   "nbconvert_exporter": "python",
   "pygments_lexer": "ipython3",
   "version": "3.11.2"
  },
  "orig_nbformat": 4
 },
 "nbformat": 4,
 "nbformat_minor": 2
}
