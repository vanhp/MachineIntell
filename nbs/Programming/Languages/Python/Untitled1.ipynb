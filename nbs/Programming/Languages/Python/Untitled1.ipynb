{
 "cells": [
  {
   "cell_type": "code",
   "execution_count": 1,
   "id": "6833eb8b-3fb0-436a-a5bb-943d4ff1da3b",
   "metadata": {},
   "outputs": [],
   "source": [
    "using OMEinsum, LinearAlgebra\n",
    "\n",
    "OMEinsum.asarray(a::Number, ::Diagonal) = fill(a,())"
   ]
  },
  {
   "cell_type": "code",
   "execution_count": 2,
   "id": "c185f71f-e0d1-4eb0-931e-55158a715ff3",
   "metadata": {},
   "outputs": [
    {
     "data": {
      "text/plain": [
       "0-dimensional Array{Int64, 0}:\n",
       "6"
      ]
     },
     "execution_count": 2,
     "metadata": {},
     "output_type": "execute_result"
    }
   ],
   "source": [
    "ein\"ij -> \"(Diagonal([1,2,3]))"
   ]
  },
  {
   "cell_type": "code",
   "execution_count": 3,
   "id": "51f79504-d724-4091-8451-d95533ce5eaa",
   "metadata": {},
   "outputs": [],
   "source": [
    "function OMEinsum.einsum(::OMEinsum.Sum, ixs, iy, xs::Tuple{<:Diagonal}, size_dict::Dict)\n",
    "    length(iy) == 1 && return diag(xs[1])\n",
    "    return sum(diag(xs[1]))\n",
    "end"
   ]
  },
  {
   "cell_type": "code",
   "execution_count": 4,
   "id": "c838a4a1-d8cf-4717-ad0e-e3d6bccbb4ba",
   "metadata": {},
   "outputs": [
    {
     "data": {
      "text/plain": [
       "3-element Vector{Int64}:\n",
       " 1\n",
       " 2\n",
       " 3"
      ]
     },
     "execution_count": 4,
     "metadata": {},
     "output_type": "execute_result"
    }
   ],
   "source": [
    "ein\"ij -> i\"(Diagonal([1,2,3]))"
   ]
  },
  {
   "cell_type": "code",
   "execution_count": null,
   "id": "c301bdad-b32a-49c0-9dca-f718d4f6e60f",
   "metadata": {},
   "outputs": [],
   "source": []
  }
 ],
 "metadata": {
  "kernelspec": {
   "display_name": "Julia 1.9.0",
   "language": "julia",
   "name": "julia-1.9"
  },
  "language_info": {
   "file_extension": ".jl",
   "mimetype": "application/julia",
   "name": "julia",
   "version": "1.9.0"
  }
 },
 "nbformat": 4,
 "nbformat_minor": 5
}
