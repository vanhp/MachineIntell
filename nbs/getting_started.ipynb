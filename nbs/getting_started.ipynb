{
 "cells": [
  {
   "cell_type": "markdown",
   "metadata": {},
   "source": [
    "## Beginner start here"
   ]
  },
  {
   "cell_type": "code",
   "execution_count": null,
   "metadata": {},
   "outputs": [],
   "source": [
    "import nbdev"
   ]
  },
  {
   "cell_type": "code",
   "execution_count": null,
   "metadata": {},
   "outputs": [
    {
     "ename": "ErrorException",
     "evalue": "syntax: extra token \"function\" after end of expression",
     "output_type": "error",
     "traceback": [
      "syntax: extra token \"function\" after end of expression\n",
      "\n",
      "Stacktrace:\n",
      " [1] top-level scope\n",
      "   @ /mnt/Blog/Github/MachineIntell/nbs/getting_started.ipynb:4"
     ]
    }
   ],
   "source": [
    "\n",
    "## Parametric Plots\n",
    "\n",
    "Plot function pair (x(u), y(u)). \n",
    "See @fig-parametric for an example.\n",
    "\n",
    "\n",
    "\n",
    "using Plots\n",
    "\n",
    "plot(sin, \n",
    "     x->sin(2x), \n",
    "     0, \n",
    "     2π, \n",
    "     leg=false, \n",
    "     fill=(0,:lavender)"
   ]
  }
 ],
 "metadata": {
  "kernelspec": {
   "display_name": "Julia 1.8.2",
   "language": "julia",
   "name": "julia-1.8"
  }
 },
 "nbformat": 4,
 "nbformat_minor": 2
}
