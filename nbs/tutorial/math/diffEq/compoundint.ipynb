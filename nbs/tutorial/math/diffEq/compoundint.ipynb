{
 "cells": [
  {
   "cell_type": "raw",
   "id": "d349863e",
   "metadata": {},
   "source": [
    "---\n",
    "title: ODE\n",
    "subtitle: Learn the tips and tricks from veterans in Machine Learning\n",
    "about:\n",
    "  template: marquee\n",
    "  image: ../../../images/gradientv12.jpg \n",
    " \n",
    "  image-shape: rounded\n",
    "  links:\n",
    "    - icon: twitter\n",
    "      text: twitter\n",
    "      href: https://twitter.com\n",
    "    - icon: github\n",
    "      text: Github\n",
    "      href: https://github.com\n",
    "listing:\n",
    "  sort: \"date desc\"\n",
    "  contents: \"posts\"\n",
    "  sort-ui: false\n",
    "  filter-ui: false\n",
    "  categories: true\n",
    "  feed: true\n",
    "\n",
    "page-layout: full\n",
    "---"
   ]
  },
  {
   "cell_type": "markdown",
   "id": "50ad04ca",
   "metadata": {},
   "source": [
    "![](../../../images/code1.jpg)\n",
    "\n",
    "##  Ordinary Differential Equation\n"
   ]
  },
  {
   "cell_type": "raw",
   "id": "992a033b",
   "metadata": {},
   "source": [
    "---\n",
    "title: \"ODE Plot\"\n",
    "author: \"Norah Jones\"\n",
    "date: \"5/22/2021\"\n",
    "format:\n",
    "  html:\n",
    "    code-fold: true\n",
    "highlight-style: espresso\n",
    "code-block-border-left: true\n",
    "---"
   ]
  },
  {
   "cell_type": "markdown",
   "id": "8eb92bdf",
   "metadata": {},
   "source": [
    "## Julia Plots\n",
    "\n",
    "Plot function pair (x(u), y(u)). \n",
    "\n",
    "See @fig-parametric for an example.\n"
   ]
  },
  {
   "cell_type": "code",
   "execution_count": null,
   "id": "fig-parametric",
   "metadata": {},
   "outputs": [],
   "source": [
    "#| label: fig-parametric\n",
    "#| fig-cap: Parametric Plots\n",
    "\n",
    "# using IJulia\n",
    "\n",
    "using Plots\n",
    "\n",
    "plot(sin, \n",
    "     x->sin(2x), \n",
    "     0, \n",
    "     2π, \n",
    "     leg=false, \n",
    "     fill=(0,:lavender))"
   ]
  }
 ],
 "metadata": {
  "kernelspec": {
   "display_name": "Julia 1.8.3",
   "language": "julia",
   "name": "julia-1.8"
  }
 },
 "nbformat": 4,
 "nbformat_minor": 5
}
