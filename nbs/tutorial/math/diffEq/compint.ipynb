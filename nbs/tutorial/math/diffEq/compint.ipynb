{
 "cells": [
  {
   "cell_type": "raw",
   "id": "5868b3d3",
   "metadata": {},
   "source": [
    "---\n",
    "title: ODE\n",
    "subtitle: Learn ODE in Use\n",
    "about:\n",
    "  template: marquee\n",
    "  image: ../../../images/gradientv12.jpg\n",
    " \n",
    "  image-shape: rounded\n",
    "  links:\n",
    "    - icon: twitter\n",
    "      text: twitter\n",
    "      href: https://twitter.com\n",
    "    - icon: github\n",
    "      text: Github\n",
    "      href: https://github.com\n",
    "listing:\n",
    "  sort: \"date desc\"\n",
    "  contents: \"posts\"\n",
    "  sort-ui: false\n",
    "  filter-ui: false\n",
    "  categories: true\n",
    "  feed: true\n",
    "\n",
    "page-layout: full\n",
    "---"
   ]
  },
  {
   "cell_type": "markdown",
   "id": "68cea22e",
   "metadata": {},
   "source": [
    "<!-- ![](/images/ai-pic7cp.jpg) -->\n",
    "![](./image/ode1.jpg)"
   ]
  },
  {
   "cell_type": "raw",
   "id": "5873dd2f",
   "metadata": {},
   "source": [
    "---\n",
    "title: \" Ordinary differential Equation (ODE)\"\n",
    "author: \"Vanh Phom\"\n",
    "date: \"11/01/2022\"\n",
    "format:\n",
    "  html:\n",
    "    code-fold: true\n",
    "\n",
    "---"
   ]
  },
  {
   "cell_type": "markdown",
   "id": "c2990841",
   "metadata": {},
   "source": [
    "## Parametric Plots\n",
    "\n",
    "<<<<<<< HEAD\n",
    "$\\frac{du}{dt} = pu = f(u,p,t)$\n",
    "\n",
    "```julia\n",
    "=======\n",
    "Plot function pair (x(u), y(u)). \n",
    "See @fig-parametric for an example."
   ]
  },
  {
   "cell_type": "code",
   "execution_count": null,
   "id": "fig-parameter",
   "metadata": {},
   "outputs": [],
   "source": [
    "#| label: fig-parameter\n",
    "#| fig-cap: Parametric Plots\n",
    ">>>>>>> main\n",
    "\n",
    "using Pkg\n",
    "Pkg.add(\"IJulia\")\n",
    "using IJulia\n",
    "notebook()\n",
    "\n",
    "using Plots\n",
    "\n",
    "plot(sin, \n",
    "     x->sin(2x), \n",
    "     0, \n",
    "     2π, \n",
    "     leg=false, \n",
    "     fill=(0,:lavender))"
   ]
  },
  {
   "cell_type": "markdown",
   "id": "6ae01b4b",
   "metadata": {},
   "source": [
    "<<<<<<< HEAD\n",
    "\n",
    "#### Euler Number \n",
    "Euler number is e = 2.718281708...\n",
    "Euler number is the answer to the question what is the balance of and account that start with $1 and the interest is 100% per year compound continuously it's 2.71\n",
    "ODE with computer is called numerical ODE analysis which is an estimate value since computer use floating point number it will never going to be exact unlike analytic ODE or symbolic ODE where using symbol manipution may come out with a more exact value On the other hand, the numerical ODE always find the solution if given the an initial and end since it uses time stamp to do the calculation\n",
    "\n",
    "euler_question = \"what is the balance after one year if the begin balance is 1 dollar the the interest rate is 100% compound continously\"\n",
    "\n",
    "\n",
    "print(euler_question)\n",
    "euler = sol(1)\n",
    "answer = \"answer is 2.718 dollars\"\n",
    "print(answer)\n",
    "euler_num = ℯ\n",
    "print(\"euler_number: $euler_num\")\n",
    "\n",
    "e_estimate = sol(1)\n",
    "real_EULER = ℯ\n",
    "diff = real_EULER - e_estimate\n",
    "```\n",
    "=======\n",
    ">>>>>>> main"
   ]
  }
 ],
 "metadata": {
  "kernelspec": {
   "display_name": "Julia 1.8.2",
   "language": "julia",
   "name": "julia-1.8"
  }
 },
 "nbformat": 4,
 "nbformat_minor": 5
}
