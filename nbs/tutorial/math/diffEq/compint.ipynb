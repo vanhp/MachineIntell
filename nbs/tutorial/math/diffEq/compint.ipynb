{
 "cells": [
  {
   "cell_type": "raw",
   "id": "a0770d1a",
   "metadata": {},
   "source": [
    "---\n",
    "title: Compound Interest\n",
    "subtitle: Learn the tips and tricks from veterans in Machine Learning\n",
    "about:\n",
    "  template: marquee\n",
    "  image: ../../../images/gradientv12.jpg\n",
    " \n",
    "  image-shape: rounded\n",
    "  links:\n",
    "    - icon: twitter\n",
    "      text: twitter\n",
    "      href: https://twitter.com\n",
    "    - icon: github\n",
    "      text: Github\n",
    "      href: https://github.com\n",
    "listing:\n",
    "  sort: \"date desc\"\n",
    "  contents: \"posts\"\n",
    "  sort-ui: false\n",
    "  filter-ui: false\n",
    "  categories: true\n",
    "  feed: true\n",
    "\n",
    "page-layout: full\n",
    "---"
   ]
  },
  {
   "cell_type": "markdown",
   "id": "110bdead",
   "metadata": {},
   "source": [
    "![](/images/ai-pic7cp.jpg)\n"
   ]
  },
  {
   "cell_type": "raw",
   "id": "4dc38558",
   "metadata": {},
   "source": [
    "---\n",
    "title: \"Compoun Interest of Bank \"\n",
    "author: \"Vanh Phom\"\n",
    "date: \"11/01/2022\"\n",
    "format:\n",
    "  html:\n",
    "    code-fold: true\n",
    "\n",
    "---"
   ]
  },
  {
   "cell_type": "markdown",
   "id": "36bab532",
   "metadata": {},
   "source": [
    "## Ordinary differential Equation (ODE)\n",
    "\n",
    "\n",
    "md\"$\\frac{du}{dt} = pu = f(u,p,t)$\"\n"
   ]
  },
  {
   "cell_type": "code",
   "execution_count": null,
   "id": "312f58d7",
   "metadata": {},
   "outputs": [],
   "source": [
    "import Pkg; Pkg.add(\"Plotly\")\n",
    "using DifferentialEquations\n",
    "\n",
    "using Plots\n",
    "\n",
    "\n",
    "f(u,p,t) = p * u \n",
    "\n",
    "interest_p = 1.0\n",
    "balance_begin = 1.0\n",
    "t_begin = 0.0\n",
    "t_end = 1.0\n",
    "tspan = (t_begin,t_end)\n",
    "\n",
    "prob = ODEProblem(f,balance_begin,tspan,interest_p)\n",
    "sol = solve(prob)\n",
    "\n",
    "plot(sol,\n",
    "    legend = false,\n",
    "    linewidth = 2,\n",
    "    title = \"Compound Interest\",\n",
    "    xaxis = \"Time in Years\",\n",
    "    yaxis = \"Balance in Dollars\",\n",
    "    formatter = :plain,\n",
    "    widen = true\n",
    ")\n",
    "\n",
    "\n",
    "\n",
    "#### Euler Number \n",
    "Euler number is e = 2.718281708...\n",
    "Euler number is the answer to the question what is the balance of and account that start with $1 and the interest is 100% per year compound continuously it's 2.71\n",
    "ODE with computer is called numerical ODE analysis which is an estimate value since computer use floating point number it will never going to be exact unlike analytic ODE or symbolic ODE where using symbol manipution may come out with a more exact value On the other hand, the numerical ODE always find the solution if given the an initial and end since it uses time stamp to do the calculation\n",
    "\n",
    "euler_question = \"what is the balance after one year if the begin balance is 1 dollar the the interest rate is 100% compound continously\"\n",
    "\n",
    "\n",
    "print(euler_question)\n",
    "euler = sol(1)\n",
    "answer = \"answer is 2.718 dollars\"\n",
    "print(answer)\n",
    "euler_num = ℯ\n",
    "print(\"euler_number: $euler_num\")\n",
    "\n",
    "e_estimate = sol(1)\n",
    "real_EULER = ℯ\n",
    "diff = real_EULER - e_estimate"
   ]
  }
 ],
 "metadata": {
  "kernelspec": {
   "display_name": "Julia 1.8.2",
   "language": "julia",
   "name": "julia-1.8"
  }
 },
 "nbformat": 4,
 "nbformat_minor": 5
}
