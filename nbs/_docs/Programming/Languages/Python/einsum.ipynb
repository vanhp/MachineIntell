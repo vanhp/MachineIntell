{
 "cells": [
  {
   "attachments": {},
   "cell_type": "markdown",
   "metadata": {},
   "source": [
    "# My Notes "
   ]
  },
  {
   "attachments": {},
   "cell_type": "markdown",
   "metadata": {},
   "source": [
    "## Research papers of interest\n",
    "These papers are stored at the Arxiv website, they are mostly have not been through peer reviews because they are so new. On the other hand, they are follow up and performed by others researchers and interested users on the internet, if there are problems these will be report almost instantly on the social network.\n",
    "\n",
    "[diffedit](https://arxiv.org/abs/2210.11427)  \n",
    "[Progressive Distillation for Fast Sampling of Diffusion Models](https://arxiv.org/abs/2202.00512)  \n",
    "[On Distillation of Guided Diffusion Models](https://arxiv.org/abs/2210.03142)  \n",
    "[Imagic: Text-Based Real Image Editing with Diffusion Models](https://arxiv.org/abs/2210.09276)  \n",
    "\n"
   ]
  },
  {
   "attachments": {},
   "cell_type": "markdown",
   "metadata": {},
   "source": [
    "## Eistein Summation\n",
    "\n",
    "A technique for convenient and simplify the writing of syntax for many operation in linear algebra\n",
    "\n",
    "- Matrix multiplication\n",
    "- Element-wise matrix operation\n",
    "- Permutation of matrix\n",
    "- Dot product of matrix\n",
    "- Outer product of matrix\n",
    "- Summation of matrix\n",
    "- Batch multiplication of matrix (permute input to match function calls ordering)\n",
    "\n",
    "It's also speedup some of the above operation especially operation that can be combined into single call\n",
    "\n",
    "The eisum is a build-in feature of most Machine learning frameworks, e.g. Pytorch, Tensorflow, Flux..."
   ]
  },
  {
   "attachments": {},
   "cell_type": "markdown",
   "metadata": {},
   "source": [
    "How does it work?\n",
    "\n",
    "Here is the matrix multiplication  \n",
    "$$ M_{ij} = \\sum{A_{ik}B_{kj}} = A_{ik}B_{kj}$$"
   ]
  },
  {
   "cell_type": "code",
   "execution_count": 1,
   "metadata": {},
   "outputs": [],
   "source": [
    "import numpy as np"
   ]
  },
  {
   "cell_type": "code",
   "execution_count": 2,
   "metadata": {},
   "outputs": [
    {
     "data": {
      "text/plain": [
       "((3, 5), (5, 2), (3, 2))"
      ]
     },
     "execution_count": 2,
     "metadata": {},
     "output_type": "execute_result"
    }
   ],
   "source": [
    "A = np.random.rand(3,5)\n",
    "B = np.random.rand(5,2)\n",
    "M = np.empty((3,2))\n",
    "\n",
    "A.shape,B.shape,M.shape"
   ]
  },
  {
   "cell_type": "code",
   "execution_count": 3,
   "metadata": {},
   "outputs": [
    {
     "data": {
      "text/plain": [
       "(array([[0.27694249, 0.03753468, 0.16941665, 0.41728865, 0.43369869],\n",
       "        [0.4551329 , 0.66864497, 0.73754665, 0.24471807, 0.54335339],\n",
       "        [0.5047892 , 0.14020222, 0.2570132 , 0.26095409, 0.45562167]]),\n",
       " array([[0.16552844, 0.30523156],\n",
       "        [0.36920557, 0.96746229],\n",
       "        [0.795069  , 0.27568949],\n",
       "        [0.85025972, 0.27588196],\n",
       "        [0.5204543 , 0.71868638]]),\n",
       " array([[1.14010898e-313, 0.00000000e+000],\n",
       "        [2.22809558e-312, 2.14321575e-312],\n",
       "        [2.46151512e-312, 2.41907520e-312]]))"
      ]
     },
     "execution_count": 3,
     "metadata": {},
     "output_type": "execute_result"
    }
   ],
   "source": [
    "A,B,M"
   ]
  },
  {
   "cell_type": "code",
   "execution_count": 4,
   "metadata": {},
   "outputs": [],
   "source": [
    "np.set_printoptions(precision=2, linewidth=140)"
   ]
  },
  {
   "attachments": {},
   "cell_type": "markdown",
   "metadata": {},
   "source": [
    "### Code:  \n",
    "Coding as loop of the matrix multiplication above   \n",
    "where the row is i and column is j, and k is the inner dimension of both matrix that must be equal and this index will be summed and disappeared by the operation of matrix rule"
   ]
  },
  {
   "cell_type": "code",
   "execution_count": 5,
   "metadata": {},
   "outputs": [
    {
     "name": "stdout",
     "output_type": "stream",
     "text": [
      "the matrix is: [[0.77 0.59]\n",
      " [1.4  1.45]\n",
      " [0.8  0.76]]\n"
     ]
    }
   ],
   "source": [
    "for i in range(3):\n",
    "    for j in range(2):\n",
    "        total = 0\n",
    "        for k in range(5):\n",
    "            total += A[i,k] * B[k,j]\n",
    "        M[i,j] = total\n",
    "\n",
    "print(f'the matrix is: {M}')"
   ]
  },
  {
   "attachments": {},
   "cell_type": "markdown",
   "metadata": {},
   "source": [
    "Using the Eisum method"
   ]
  },
  {
   "cell_type": "code",
   "execution_count": 6,
   "metadata": {},
   "outputs": [
    {
     "name": "stdout",
     "output_type": "stream",
     "text": [
      "the matix is : [[0.77 0.59]\n",
      " [1.4  1.45]\n",
      " [0.8  0.76]]\n"
     ]
    }
   ],
   "source": [
    "\n",
    "# the i and j are free index\n",
    "# the k is sum index since it will be summed away after the operation\n",
    "M1 = np.einsum('ik,kj->ij',A,B)\n",
    "\n",
    "print(f'the matix is : {M1}')"
   ]
  },
  {
   "attachments": {},
   "cell_type": "markdown",
   "metadata": {},
   "source": [
    "### Dot product\n",
    "Vector or matrix multiplicaton $u \\cdot v$  that result of scalar value  "
   ]
  },
  {
   "attachments": {},
   "cell_type": "markdown",
   "metadata": {},
   "source": [
    "### Outer product \n",
    "vector multiply by vector that result in a matrix $u \\otimes v$  \n",
    "\n",
    "Example 2\n",
    "- Using the free index in the output  \n",
    "- No summation index  "
   ]
  },
  {
   "cell_type": "code",
   "execution_count": 7,
   "metadata": {},
   "outputs": [
    {
     "name": "stdout",
     "output_type": "stream",
     "text": [
      "the matrix is: \n",
      "[[0.15 0.25 0.21]\n",
      " [0.24 0.4  0.33]\n",
      " [0.22 0.35 0.29]\n",
      " [0.16 0.26 0.21]\n",
      " [0.44 0.73 0.61]]\n"
     ]
    }
   ],
   "source": [
    "# example 2\n",
    "D = np.random.rand(5)\n",
    "E = np.random.rand(3)\n",
    "out = np.einsum('i,j->ij',D,E)\n",
    "print(f'the matrix is: \\n{out}')"
   ]
  },
  {
   "cell_type": "code",
   "execution_count": 8,
   "metadata": {},
   "outputs": [
    {
     "name": "stdout",
     "output_type": "stream",
     "text": [
      "the matrix is: \n",
      "[[0.15 0.25 0.21]\n",
      " [0.24 0.4  0.33]\n",
      " [0.22 0.35 0.29]\n",
      " [0.16 0.26 0.21]\n",
      " [0.44 0.73 0.61]]\n"
     ]
    }
   ],
   "source": [
    "# loop version\n",
    "for i in range(5):\n",
    "    for j in range(3):\n",
    "        total = 0\n",
    "        total += D[i] * E[j]\n",
    "        out[i,j] = total\n",
    "        \n",
    "print(f'the matrix is: \\n{out}')"
   ]
  },
  {
   "attachments": {},
   "cell_type": "markdown",
   "metadata": {},
   "source": [
    "## The Eisum Rules\n",
    "\n",
    "The free indices: \n",
    "- The index that specify the output\n",
    "\n",
    "The Summation index  \n",
    "- All other indices that appear in the input argument but not show up in the output\n",
    "\n",
    "The General rules:\n",
    "1. Same index in the a different input argument indicate that these indices will be multiplied and the product are outputed\n",
    "``` python\n",
    "    M = np.einsum('ik,kj->ij',A,B)\n",
    "```\n",
    "2. Omitting index indicate the index will be summed together\n",
    "``` python\n",
    "    X = np.ones(3)\n",
    "    Y = np.einsum('i->',X)\n",
    "```\n",
    "3. The unsummed indices may return in any order\n",
    "``` python\n",
    "    D = np.ones((5,4,3))\n",
    "    E = np.einsum('ijk->kji',D)\n",
    "```"
   ]
  },
  {
   "attachments": {},
   "cell_type": "markdown",
   "metadata": {},
   "source": [
    "Operation that benefit from Einsum\n",
    "1. Permutation of Tensors\n",
    "2. Summation\n",
    "3. Column sum\n",
    "4. Row sum\n",
    "5. Matrix-Vector multiplication\n",
    "6. Matrix-Matrix multiplication\n",
    "7. Dot Product the first row with first row of a matrix\n",
    "8. Dot product with matrix (multiplication and add)\n",
    "9. Element-wise multiplication (Hadamard Product) (multiplication no add)\n",
    "10. Outer Product\n",
    "11. Batch matrix multiplicaton e.g. a = 3,2,6 and b = 3,6,3\n",
    "    - want to multiply the matrix of 2x6 with 6x3 matrix\n",
    "    - these matrix must follow the multiplication rule\n",
    "    - the first number  is the batch size they must match, but not count as index \n",
    "    - the torch.bmm function will do the same thing\n",
    "12. Matrix diagonal  \n",
    "    - return the only the diagonal value of the matrix\n",
    "13. Matrix Trace\n",
    "    - summing the value of the diagonal of a matrix"
   ]
  },
  {
   "cell_type": "code",
   "execution_count": 9,
   "metadata": {},
   "outputs": [],
   "source": [
    "# !pip install torch"
   ]
  },
  {
   "cell_type": "code",
   "execution_count": 10,
   "metadata": {},
   "outputs": [
    {
     "data": {
      "text/plain": [
       "tensor([[0.79, 0.54, 0.79],\n",
       "        [1.00, 0.18, 0.81]])"
      ]
     },
     "execution_count": 10,
     "metadata": {},
     "output_type": "execute_result"
    }
   ],
   "source": [
    "import torch\n",
    "import numpy as np\n",
    "\n",
    "torch.set_printoptions(precision=2, linewidth=140)\n",
    "\n",
    "X = torch.rand((2,3))\n",
    "X"
   ]
  },
  {
   "attachments": {},
   "cell_type": "markdown",
   "metadata": {},
   "source": [
    "1. Transpose\n",
    "Switching the index of a matrix"
   ]
  },
  {
   "cell_type": "code",
   "execution_count": 11,
   "metadata": {},
   "outputs": [
    {
     "name": "stdout",
     "output_type": "stream",
     "text": [
      "numpy: tensor([[0.79, 1.00],\n",
      "        [0.54, 0.18],\n",
      "        [0.79, 0.81]]) \n",
      "pytorch: tensor([[0.79, 1.00],\n",
      "        [0.54, 0.18],\n",
      "        [0.79, 0.81]])\n",
      " \n",
      "einsum: tensor([[0.79, 1.00],\n",
      "        [0.54, 0.18],\n",
      "        [0.79, 0.81]])\n"
     ]
    }
   ],
   "source": [
    "#| label: mat-transpose\n",
    "#| code-fold: True\n",
    "\n",
    "c_ntp = np.transpose(X)\n",
    "c_tp = torch.transpose(X,0,1)\n",
    "cein = torch.einsum('ij->ji',X)\n",
    "print(f'numpy: {c_ntp} \\npytorch: {c_tp}\\n \\neinsum: {cein}')"
   ]
  },
  {
   "attachments": {},
   "cell_type": "markdown",
   "metadata": {},
   "source": [
    "2. Matrix summation  \n",
    "Summing all value in the matrix that result in a scalar value"
   ]
  },
  {
   "cell_type": "code",
   "execution_count": 12,
   "metadata": {},
   "outputs": [
    {
     "name": "stdout",
     "output_type": "stream",
     "text": [
      "regular: 4.116492748260498 \n",
      "einsum: 4.116492748260498\n"
     ]
    }
   ],
   "source": [
    "#| label: matrix-sum\n",
    "\n",
    "#2. Summation\n",
    "cma = torch.sum(X)\n",
    "cein = torch.einsum('ij->',X)\n",
    "\n",
    "print(f'regular: {cma} \\neinsum: {cein}')"
   ]
  },
  {
   "cell_type": "code",
   "execution_count": 13,
   "metadata": {},
   "outputs": [
    {
     "data": {
      "text/plain": [
       "tensor([[0.79, 0.54, 0.79],\n",
       "        [1.00, 0.18, 0.81]])"
      ]
     },
     "execution_count": 13,
     "metadata": {},
     "output_type": "execute_result"
    }
   ],
   "source": [
    "X"
   ]
  },
  {
   "attachments": {},
   "cell_type": "markdown",
   "metadata": {},
   "source": [
    "Row sum (Left to right)\n",
    "\n",
    "Add all values from each column together along the row"
   ]
  },
  {
   "cell_type": "code",
   "execution_count": 14,
   "metadata": {},
   "outputs": [
    {
     "name": "stdout",
     "output_type": "stream",
     "text": [
      "regular: tensor([1.79, 0.72, 1.61]) \n",
      "einsum: tensor([2.12, 2.00])\n"
     ]
    }
   ],
   "source": [
    "#| label: row-summation\n",
    "\n",
    "#4 row summation\n",
    "# sum by columns\n",
    "rows = torch.sum(X,dim=0)\n",
    "cein = torch.einsum('ij->i',X)\n",
    "\n",
    "print(f'regular: {rows} \\neinsum: {cein}')"
   ]
  },
  {
   "attachments": {},
   "cell_type": "markdown",
   "metadata": {},
   "source": [
    "Column sum (Top down)\n",
    "\n",
    "Add all value from each row together along the column"
   ]
  },
  {
   "cell_type": "code",
   "execution_count": 15,
   "metadata": {},
   "outputs": [
    {
     "name": "stdout",
     "output_type": "stream",
     "text": [
      "regular: tensor([2.12, 2.00]) \n",
      "einsum: tensor([1.79, 0.72, 1.61])\n"
     ]
    }
   ],
   "source": [
    "#| label: column-summation\n",
    "\n",
    "#3 Column summation\n",
    "# sum by rows\n",
    "c_col = torch.sum(X,dim=1)\n",
    "cein = torch.einsum('ij->j',X)\n",
    "\n",
    "print(f'regular: {c_col} \\neinsum: {cein}')"
   ]
  },
  {
   "attachments": {},
   "cell_type": "markdown",
   "metadata": {},
   "source": [
    "5 matrix-vector multiplication  \n",
    "This a non equal dimension multiplication which in Python use broadcasting to padded (duplicate) the vector to have equal size with the matrix before do multiplication"
   ]
  },
  {
   "cell_type": "code",
   "execution_count": 16,
   "metadata": {},
   "outputs": [
    {
     "name": "stdout",
     "output_type": "stream",
     "text": [
      "regular: tensor([0.55]) \n",
      "einsum: tensor([0.55])\n"
     ]
    }
   ],
   "source": [
    "#| label: matrix-vector\n",
    "\n",
    "#5 matrix-vector multiplication\n",
    "L = torch.rand((1,3))\n",
    "M = torch.rand((3,))\n",
    "\n",
    "cmm = torch.matmul(L,M)\n",
    "cein = torch.einsum('ij,j->i',L,M)\n",
    "print(f'regular: {cmm} \\neinsum: {cein}')\n"
   ]
  },
  {
   "attachments": {},
   "cell_type": "markdown",
   "metadata": {},
   "source": [
    "6 matrix-matrix multiplication  \n",
    "This standard matrix to matrix multiplication which result in another matrix"
   ]
  },
  {
   "cell_type": "code",
   "execution_count": 17,
   "metadata": {},
   "outputs": [
    {
     "name": "stdout",
     "output_type": "stream",
     "text": [
      "regular: tensor([[2., 2., 2.],\n",
      "        [2., 2., 2.],\n",
      "        [2., 2., 2.]]) \n",
      "einsum: tensor([[2., 2., 2.],\n",
      "        [2., 2., 2.],\n",
      "        [2., 2., 2.]])\n"
     ]
    }
   ],
   "source": [
    "#| label: matrix-matrix\n",
    "\n",
    "#6 matrix-matrix multiplication\n",
    "# torch.einsum('ij,kj->ik',M,M)\n",
    "\n",
    "a = torch.ones((3,2))\n",
    "b = torch.ones((2,3))\n",
    "cmm = torch.matmul(a,b)\n",
    "cein = torch.einsum('ij,jl->il',a,b)\n",
    "print(f'regular: {cmm} \\neinsum: {cein}')\n"
   ]
  },
  {
   "cell_type": "code",
   "execution_count": 18,
   "metadata": {},
   "outputs": [
    {
     "data": {
      "text/plain": [
       "tensor([[0.60, 1.02],\n",
       "        [0.22, 0.26],\n",
       "        [0.70, 1.09]])"
      ]
     },
     "execution_count": 18,
     "metadata": {},
     "output_type": "execute_result"
    }
   ],
   "source": [
    "N = torch.rand((3,3))\n",
    "M = torch.rand((2,3))\n",
    "torch.einsum('ij,kj->ik',N,M)"
   ]
  },
  {
   "attachments": {},
   "cell_type": "markdown",
   "metadata": {},
   "source": [
    "Dot product\n",
    "\n",
    "This a matrix multiplication that result in a scalar value. It's usually called multiply add.  \n",
    "since after multiply the row to the column then the sum operation is carry out result as a scalar"
   ]
  },
  {
   "cell_type": "code",
   "execution_count": 19,
   "metadata": {},
   "outputs": [
    {
     "name": "stdout",
     "output_type": "stream",
     "text": [
      "c: tensor([0.86, 0.45, 0.15]), c: torch.Size([3])\n",
      "c_dot: 0.3098883330821991\n",
      "regular: 0.3098883330821991 \n",
      "  einsum: 0.3098883330821991\n"
     ]
    }
   ],
   "source": [
    "#| label: dot-product\n",
    "\n",
    "# dot product of a matrix (multiply + add)\n",
    "#torch.einsum('ij,ij->',N,N)\n",
    "\n",
    "# c = torch.tensor([2,3])\n",
    "# d = torch.tensor([2,1])\n",
    "c = torch.rand((3))\n",
    "d = torch.rand((3))\n",
    "\n",
    "c_dot = torch.dot(c,d)\n",
    "cein = torch.einsum('i,i->',c,d)\n",
    "\n",
    "print(f'c: {c}, c: {c.shape}')\n",
    "print(f'c_dot: {c_dot}')\n",
    "print(f'regular: {c_dot} \\n  einsum: {cein}')"
   ]
  },
  {
   "cell_type": "code",
   "execution_count": 20,
   "metadata": {},
   "outputs": [
    {
     "data": {
      "text/plain": [
       "tensor(1.67)"
      ]
     },
     "execution_count": 20,
     "metadata": {},
     "output_type": "execute_result"
    }
   ],
   "source": [
    "# dot product of only the first row of a matrix with first row of a matrix\n",
    "torch.einsum('i,i->',N[0],N[0])"
   ]
  },
  {
   "attachments": {},
   "cell_type": "markdown",
   "metadata": {},
   "source": [
    "Hadamard Product \n",
    "Element wise multiplication (multiply only)  \n",
    "This is a normal matrix multiplication which different from multiply add or dot product"
   ]
  },
  {
   "cell_type": "code",
   "execution_count": 21,
   "metadata": {},
   "outputs": [
    {
     "name": "stdout",
     "output_type": "stream",
     "text": [
      "regular: tensor([[ 1.19, -1.25],\n",
      "        [-0.24, -0.40],\n",
      "        [ 0.41,  0.26]]) \n",
      "  einsum: tensor([[ 1.19, -1.25],\n",
      "        [-0.24, -0.40],\n",
      "        [ 0.41,  0.26]])\n"
     ]
    }
   ],
   "source": [
    "#| label: Hadamard-product\n",
    "\n",
    "# element wise multiplication (multiply only)\n",
    "# torch.einsum('ij,ij->ij',N,N)\n",
    "\n",
    "c = torch.randn((3,2))\n",
    "d = torch.randn((3,2))\n",
    "cmm = c * d\n",
    "cein = torch.einsum('ij,ij->ij',c,d)\n",
    "print(f'regular: {cmm} \\n  einsum: {cein}')"
   ]
  },
  {
   "attachments": {},
   "cell_type": "markdown",
   "metadata": {},
   "source": [
    "Outer Product\n",
    "\n",
    "Multiply vector of different size to get a matrix as output\n",
    "In eisum must use different letter to represent size different\n"
   ]
  },
  {
   "cell_type": "code",
   "execution_count": 22,
   "metadata": {},
   "outputs": [
    {
     "name": "stdout",
     "output_type": "stream",
     "text": [
      "x: tensor([0.46, 0.59, 0.35]), x: torch.Size([3])\n",
      "y: tensor([0.44, 0.14, 0.54, 0.87, 0.98]), y: torch.Size([5])\n",
      "regular: tensor([[0.20, 0.06, 0.25, 0.40, 0.45],\n",
      "        [0.26, 0.08, 0.32, 0.51, 0.58],\n",
      "        [0.15, 0.05, 0.19, 0.30, 0.34]]) \n",
      "  einsum: tensor([[0.20, 0.06, 0.25, 0.40, 0.45],\n",
      "        [0.26, 0.08, 0.32, 0.51, 0.58],\n",
      "        [0.15, 0.05, 0.19, 0.30, 0.34]])\n"
     ]
    }
   ],
   "source": [
    "#| label: outer-product\n",
    "\n",
    "# outer product (inner product)\n",
    "x = torch.rand(3)\n",
    "y = torch.rand(5)\n",
    "print(f'x: {x}, x: {x.shape}')\n",
    "print(f'y: {y}, y: {y.shape}')\n",
    "\n",
    "c_outer = torch.outer(x,y)\n",
    "cein = torch.einsum('i,j->ij',x,y)\n",
    "print(f'regular: {c_outer} \\n  einsum: {cein}')"
   ]
  },
  {
   "attachments": {},
   "cell_type": "markdown",
   "metadata": {},
   "source": [
    "Batch matrix multiplication  \n",
    "Multiply matrix by the set of n, where n is batch size  \n",
    "\n",
    "want to multiply the matrix of 2x6 with 6x3 matrix  \n",
    "the first number is the batch size must match but not count as index so i is ignore  \n",
    "the mxn * nxp must match with n"
   ]
  },
  {
   "cell_type": "code",
   "execution_count": 23,
   "metadata": {},
   "outputs": [
    {
     "name": "stdout",
     "output_type": "stream",
     "text": [
      "regular: tensor([[[1.26, 1.00, 0.96],\n",
      "         [1.26, 1.06, 1.14]],\n",
      "\n",
      "        [[2.02, 1.92, 1.71],\n",
      "         [2.51, 3.09, 2.58]],\n",
      "\n",
      "        [[0.92, 1.33, 0.85],\n",
      "         [1.07, 1.06, 1.05]]])\n",
      " numpy: tensor([[[1.26, 1.00, 0.96],\n",
      "         [1.26, 1.06, 1.14]],\n",
      "\n",
      "        [[2.02, 1.92, 1.71],\n",
      "         [2.51, 3.09, 2.58]],\n",
      "\n",
      "        [[0.92, 1.33, 0.85],\n",
      "         [1.07, 1.06, 1.05]]]) \n",
      "  einsum: tensor([[[1.26, 1.00, 0.96],\n",
      "         [1.26, 1.06, 1.14]],\n",
      "\n",
      "        [[2.02, 1.92, 1.71],\n",
      "         [2.51, 3.09, 2.58]],\n",
      "\n",
      "        [[0.92, 1.33, 0.85],\n",
      "         [1.07, 1.06, 1.05]]])\n"
     ]
    }
   ],
   "source": [
    "#| label: batch-matrix\n",
    "\n",
    "# batch matrix multiplicaton\n",
    "# want to multiply the matrix of 2x6 with 6x3 matrix\n",
    "# the first number is the batch size must match but not count as index so i is ignore\n",
    "# the mxn * nxp must match with n\n",
    "R = torch.rand(3,2,6)\n",
    "S = torch.rand(3,6,3)\n",
    "cmn = np.matmul(R,S)\n",
    "cmm = torch.matmul(R,S)\n",
    "\n",
    "cein = torch.einsum('ijk,ikl->ijl',R,S)\n",
    "\n",
    "print(f'regular: {cmm}\\n numpy: {cmn} \\n  einsum: {cein}')"
   ]
  },
  {
   "attachments": {},
   "cell_type": "markdown",
   "metadata": {},
   "source": [
    "Diagonal Matrix\n",
    "return the vector of value along the diagonal of a matrix"
   ]
  },
  {
   "cell_type": "code",
   "execution_count": 24,
   "metadata": {},
   "outputs": [
    {
     "name": "stdout",
     "output_type": "stream",
     "text": [
      "T: tensor([[0.93, 0.96, 0.02],\n",
      "        [0.80, 0.28, 0.04],\n",
      "        [0.70, 0.90, 0.31]]) \n",
      "T shape: torch.Size([3, 3])\n",
      "regular: tensor([0.93, 0.28, 0.31]) \n",
      "  einsum: tensor([0.93, 0.28, 0.31])\n"
     ]
    }
   ],
   "source": [
    "#| label: diag-mat\n",
    "\n",
    "# Diagonal matrix return only the diagonal value of a matrix\n",
    "\n",
    "T = torch.rand(3,3)\n",
    "\n",
    "cein = torch.einsum('ii->i',T)\n",
    "print(f'T: {T} \\nT shape: {T.shape}')\n",
    "c_diag = torch.diag(T)\n",
    "\n",
    "print(f'regular: {c_diag} \\n  einsum: {cein}')\n"
   ]
  },
  {
   "cell_type": "code",
   "execution_count": 25,
   "metadata": {},
   "outputs": [],
   "source": [
    "# torch.einsum('ii->i',T)"
   ]
  },
  {
   "attachments": {},
   "cell_type": "markdown",
   "metadata": {},
   "source": [
    "Trace\n",
    "\n",
    "Take the sum of all values along the diagonal axix of a matrix"
   ]
  },
  {
   "cell_type": "code",
   "execution_count": 26,
   "metadata": {},
   "outputs": [
    {
     "name": "stdout",
     "output_type": "stream",
     "text": [
      "T: tensor([[0.93, 0.96, 0.02],\n",
      "        [0.80, 0.28, 0.04],\n",
      "        [0.70, 0.90, 0.31]])\n",
      "regular: 1.5217688083648682 \n",
      "  einsum: 1.5217686891555786\n"
     ]
    }
   ],
   "source": [
    "#| label: trace\n",
    "\n",
    "# matrix trace\n",
    "\n",
    "c_trace = torch.trace(T)\n",
    "cein = torch.einsum('ii->',T)\n",
    "print(f'T: {T}')\n",
    "print(f'regular: {c_trace} \\n  einsum: {cein}')"
   ]
  },
  {
   "attachments": {},
   "cell_type": "markdown",
   "metadata": {},
   "source": [
    "Tensor Contraction  \n",
    "Shrinking the dimension of the tensor  \n",
    "must provide the dimension to be ignored\n"
   ]
  },
  {
   "cell_type": "code",
   "execution_count": 27,
   "metadata": {},
   "outputs": [
    {
     "name": "stdout",
     "output_type": "stream",
     "text": [
      "value: torch.Size([3, 4, 2]) value2: torch.Size([4, 3, 6])\n",
      "regular: tensor([[3.46, 3.77, 4.15, 3.44, 4.38, 3.51],\n",
      "        [3.24, 3.03, 2.78, 2.32, 3.32, 2.80]]) \n",
      "  einsum: tensor([[3.46, 3.77, 4.15, 3.44, 4.38, 3.51],\n",
      "        [3.24, 3.03, 2.78, 2.32, 3.32, 2.80]])\n"
     ]
    }
   ],
   "source": [
    "#| label: contraction\n",
    "\n",
    "o = torch.rand((3,4,2))\n",
    "p = torch.rand((4,3,6))\n",
    "print(f'value: {o.shape} value2: {p.shape}')\n",
    "\n",
    "c_tdot = torch.tensordot(o,p,dims=([1,0],[0,1]))\n",
    "cein = torch.einsum('ijk,jil->kl',o,p)\n",
    "print(f'regular: {c_tdot} \\n  einsum: {cein}')"
   ]
  },
  {
   "attachments": {},
   "cell_type": "markdown",
   "metadata": {},
   "source": [
    "Bilinear transformation"
   ]
  },
  {
   "cell_type": "code",
   "execution_count": 28,
   "metadata": {},
   "outputs": [
    {
     "data": {
      "text/plain": [
       "tensor([[5.39, 5.18, 5.16, 5.60, 3.51],\n",
       "        [4.70, 4.20, 4.48, 4.85, 3.48]])"
      ]
     },
     "execution_count": 28,
     "metadata": {},
     "output_type": "execute_result"
    }
   ],
   "source": [
    "a = torch.rand(2,3)\n",
    "b = torch.rand(5,3,7)\n",
    "c = torch.rand(2,7)\n",
    "\n",
    "torch.einsum('ik,jkl,il->ij',[a,b,c])"
   ]
  }
 ],
 "metadata": {
  "kernelspec": {
   "display_name": "Python 3",
   "language": "python",
   "name": "python3"
  },
  "language_info": {
   "codemirror_mode": {
    "name": "ipython",
    "version": 3
   },
   "file_extension": ".py",
   "mimetype": "text/x-python",
   "name": "python",
   "nbconvert_exporter": "python",
   "pygments_lexer": "ipython3",
   "version": "3.11.2"
  },
  "orig_nbformat": 4
 },
 "nbformat": 4,
 "nbformat_minor": 2
}
