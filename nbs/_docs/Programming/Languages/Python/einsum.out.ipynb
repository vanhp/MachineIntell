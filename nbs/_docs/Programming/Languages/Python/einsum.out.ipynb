{
  "cells": [
    {
      "cell_type": "markdown",
      "metadata": {},
      "source": [
        "# My Notes\n",
        "\n",
        "## Research papers of interest\n",
        "\n",
        "These papers are stored at the Arxiv website, they are mostly have not\n",
        "been through peer reviews because they are so new. On the other hand,\n",
        "they are follow up and performed by others researchers and interested\n",
        "users on the internet, if there are problems these will be report almost\n",
        "instantly on the social network.\n",
        "\n",
        "[diffedit](https://arxiv.org/abs/2210.11427)  \n",
        "[Progressive Distillation for Fast Sampling of Diffusion\n",
        "Models](https://arxiv.org/abs/2202.00512)  \n",
        "[On Distillation of Guided Diffusion\n",
        "Models](https://arxiv.org/abs/2210.03142)  \n",
        "[Imagic: Text-Based Real Image Editing with Diffusion\n",
        "Models](https://arxiv.org/abs/2210.09276)\n",
        "\n",
        "## Einstein Summation\n",
        "\n",
        "A technique for convenient and simplify the writing of syntax for many\n",
        "operation in linear algebra\n",
        "\n",
        "-   Matrix multiplication\n",
        "-   Element-wise matrix operation\n",
        "-   Permutation of matrix\n",
        "-   Dot product of matrix\n",
        "-   Outer product of matrix\n",
        "-   Summation of matrix\n",
        "-   Batch multiplication of matrix (permute input to match function\n",
        "    calls ordering)\n",
        "\n",
        "It’s also speedup some of the above operation especially operation that\n",
        "can be combined into single call\n",
        "\n",
        "The eisum is a build-in feature of most Machine learning frameworks,\n",
        "e.g. Pytorch, Tensorflow, Flux…\n",
        "\n",
        "How does it work?\n",
        "\n",
        "Here is the matrix multiplication  \n",
        "$$ M_{ij} = \\sum{A_{ik}B_{kj}} = A_{ik}B_{kj}$$"
      ],
      "id": "0c45228a-dac2-4ef5-ace5-9de684886433"
    },
    {
      "cell_type": "code",
      "execution_count": 1,
      "metadata": {},
      "outputs": [],
      "source": [
        "import numpy as np"
      ],
      "id": "cell-5"
    },
    {
      "cell_type": "code",
      "execution_count": 2,
      "metadata": {},
      "outputs": [
        {
          "output_type": "display_data",
          "metadata": {},
          "data": {
            "text/plain": [
              "((3, 5), (5, 2), (3, 2))"
            ]
          }
        }
      ],
      "source": [
        "A = np.random.rand(3,5)\n",
        "B = np.random.rand(5,2)\n",
        "M = np.empty((3,2))\n",
        "\n",
        "A.shape,B.shape,M.shape"
      ],
      "id": "cell-6"
    },
    {
      "cell_type": "code",
      "execution_count": 3,
      "metadata": {},
      "outputs": [
        {
          "output_type": "display_data",
          "metadata": {},
          "data": {
            "text/plain": [
              "(array([[6.82759644e-01, 3.32325362e-01, 5.10214353e-01, 8.76891766e-01,\n",
              "         1.72299180e-01],\n",
              "        [5.33438050e-01, 7.25523710e-01, 8.54886776e-01, 3.96140734e-01,\n",
              "         3.56604238e-01],\n",
              "        [5.45349948e-05, 8.97919640e-01, 1.86133084e-01, 8.73382052e-01,\n",
              "         1.11479305e-01]]),\n",
              " array([[0.18449366, 0.69112411],\n",
              "        [0.68456084, 0.92427429],\n",
              "        [0.39745901, 0.59819685],\n",
              "        [0.53124429, 0.82624474],\n",
              "        [0.37620928, 0.55749668]]),\n",
              " array([[1.13621302e-313, 0.00000000e+000],\n",
              "        [6.92770534e-310, 6.92770729e-310],\n",
              "        [6.92770292e-310, 6.92770291e-310]]))"
            ]
          }
        }
      ],
      "source": [
        "A,B,M"
      ],
      "id": "cell-7"
    },
    {
      "cell_type": "code",
      "execution_count": 4,
      "metadata": {},
      "outputs": [],
      "source": [
        "np.set_printoptions(precision=2, linewidth=140)"
      ],
      "id": "cell-8"
    },
    {
      "cell_type": "markdown",
      "metadata": {},
      "source": [
        "### Code:\n",
        "\n",
        "Coding as loop of the matrix multiplication above  \n",
        "where the row is i and column is j, and k is the inner dimension of both\n",
        "matrix that must be equal and this index will be summed and disappeared\n",
        "by the operation of matrix rule"
      ],
      "id": "604f3c6a-2a92-42fa-8f94-5b7bb3e6b5db"
    },
    {
      "cell_type": "code",
      "execution_count": 5,
      "metadata": {},
      "outputs": [
        {
          "output_type": "stream",
          "name": "stdout",
          "text": [
            "the matrix is: [[1.09 1.9 ]\n",
            " [1.28 2.08]\n",
            " [1.19 1.73]]"
          ]
        }
      ],
      "source": [
        "for i in range(3):\n",
        "    for j in range(2):\n",
        "        total = 0\n",
        "        for k in range(5):\n",
        "            total += A[i,k] * B[k,j]\n",
        "        M[i,j] = total\n",
        "\n",
        "print(f'the matrix is: {M}')"
      ],
      "id": "cell-10"
    },
    {
      "cell_type": "markdown",
      "metadata": {},
      "source": [
        "Using the Eisum method"
      ],
      "id": "3002a04c-e144-495b-9ab6-2bd486919a03"
    },
    {
      "cell_type": "code",
      "execution_count": 6,
      "metadata": {},
      "outputs": [
        {
          "output_type": "stream",
          "name": "stdout",
          "text": [
            "the matix is : [[1.09 1.9 ]\n",
            " [1.28 2.08]\n",
            " [1.19 1.73]]"
          ]
        }
      ],
      "source": [
        "\n",
        "# the i and j are free index\n",
        "# the k is sum index since it will be summed away after the operation\n",
        "M1 = np.einsum('ik,kj->ij',A,B)\n",
        "\n",
        "print(f'the matix is : {M1}')"
      ],
      "id": "cell-13"
    },
    {
      "cell_type": "markdown",
      "metadata": {},
      "source": [
        "### Dot product\n",
        "\n",
        "Vector or matrix multiplicaton $u \\cdot v$ that result of scalar value\n",
        "\n",
        "### Outer product\n",
        "\n",
        "vector multiply by vector that result in a matrix $u \\otimes v$\n",
        "\n",
        "Example 2 - Using the free index in the output  \n",
        "- No summation index"
      ],
      "id": "c0d13ee7-52f1-4051-857c-5b56587afe94"
    },
    {
      "cell_type": "code",
      "execution_count": 7,
      "metadata": {},
      "outputs": [
        {
          "output_type": "stream",
          "name": "stdout",
          "text": [
            "the matrix is: \n",
            "[[0.32 0.69 0.7 ]\n",
            " [0.37 0.8  0.8 ]\n",
            " [0.28 0.61 0.61]\n",
            " [0.37 0.79 0.79]\n",
            " [0.17 0.36 0.36]]"
          ]
        }
      ],
      "source": [
        "# example 2\n",
        "D = np.random.rand(5)\n",
        "E = np.random.rand(3)\n",
        "out = np.einsum('i,j->ij',D,E)\n",
        "print(f'the matrix is: \\n{out}')"
      ],
      "id": "cell-16"
    },
    {
      "cell_type": "code",
      "execution_count": 8,
      "metadata": {},
      "outputs": [
        {
          "output_type": "stream",
          "name": "stdout",
          "text": [
            "the matrix is: \n",
            "[[0.32 0.69 0.7 ]\n",
            " [0.37 0.8  0.8 ]\n",
            " [0.28 0.61 0.61]\n",
            " [0.37 0.79 0.79]\n",
            " [0.17 0.36 0.36]]"
          ]
        }
      ],
      "source": [
        "# loop version\n",
        "for i in range(5):\n",
        "    for j in range(3):\n",
        "        total = 0\n",
        "        total += D[i] * E[j]\n",
        "        out[i,j] = total\n",
        "        \n",
        "print(f'the matrix is: \\n{out}')"
      ],
      "id": "cell-17"
    },
    {
      "cell_type": "markdown",
      "metadata": {},
      "source": [
        "## The Einsum Rules\n",
        "\n",
        "The free indices: - The index that specify the output\n",
        "\n",
        "The Summation index  \n",
        "- All other indices that appear in the input argument but not show up in\n",
        "the output\n",
        "\n",
        "The General rules: 1. Same index in the a different input argument\n",
        "indicate that these indices will be multiplied and the product are\n",
        "outputed\n",
        "\n",
        "``` python\n",
        "    M = np.einsum('ik,kj->ij',A,B)\n",
        "```\n",
        "\n",
        "1.  Omitting index indicate the index will be summed together\n",
        "\n",
        "``` python\n",
        "    X = np.ones(3)\n",
        "    Y = np.einsum('i->',X)\n",
        "```\n",
        "\n",
        "1.  The unsummed indices may return in any order\n",
        "\n",
        "``` python\n",
        "    D = np.ones((5,4,3))\n",
        "    E = np.einsum('ijk->kji',D)\n",
        "```\n",
        "\n",
        "Operation that benefit from Einsum 1. Permutation of Tensors 2.\n",
        "Summation 3. Column sum 4. Row sum 5. Matrix-Vector multiplication 6.\n",
        "Matrix-Matrix multiplication 7. Dot Product the first row with first row\n",
        "of a matrix 8. Dot product with matrix (multiplication and add) 9.\n",
        "Element-wise multiplication (Hadamard Product) (multiplication no add)\n",
        "10. Outer Product 11. Batch matrix multiplicaton e.g. a = 3,2,6 and b =\n",
        "3,6,3 - want to multiply the matrix of 2x6 with 6x3 matrix - these\n",
        "matrix must follow the multiplication rule - the first number is the\n",
        "batch size they must match, but not count as index - the torch.bmm\n",
        "function will do the same thing 12. Matrix diagonal  \n",
        "- return the only the diagonal value of the matrix 13. Matrix Trace -\n",
        "summing the value of the diagonal of a matrix  \n",
        "14. Tensor contration  \n",
        "- shrinking the dimension of tensor  \n",
        "15. Bilinear transformation"
      ],
      "id": "d2c712c5-265a-4f55-a926-8f5741a48ac3"
    },
    {
      "cell_type": "code",
      "execution_count": 9,
      "metadata": {},
      "outputs": [],
      "source": [
        "# !pip install torch"
      ],
      "id": "cell-20"
    },
    {
      "cell_type": "code",
      "execution_count": 10,
      "metadata": {},
      "outputs": [
        {
          "output_type": "display_data",
          "metadata": {},
          "data": {
            "text/plain": [
              "tensor([[0.25, 0.74, 0.66],\n",
              "        [0.96, 0.80, 0.44]])"
            ]
          }
        }
      ],
      "source": [
        "import torch\n",
        "import numpy as np\n",
        "\n",
        "torch.set_printoptions(precision=2, linewidth=140)\n",
        "\n",
        "X = torch.rand((2,3))\n",
        "X"
      ],
      "id": "cell-21"
    },
    {
      "cell_type": "markdown",
      "metadata": {},
      "source": [
        "1.  Transpose Flipping the matrix or vector by switching the index of a\n",
        "    matrix or vector"
      ],
      "id": "258c7c11-c72c-429d-8480-f4d0646887ef"
    },
    {
      "cell_type": "code",
      "execution_count": 11,
      "metadata": {},
      "outputs": [
        {
          "output_type": "stream",
          "name": "stdout",
          "text": [
            "numpy: tensor([[0.25, 0.96],\n",
            "        [0.74, 0.80],\n",
            "        [0.66, 0.44]]) \n",
            "pytorch: tensor([[0.25, 0.96],\n",
            "        [0.74, 0.80],\n",
            "        [0.66, 0.44]])\n",
            " \n",
            "einsum: tensor([[0.25, 0.96],\n",
            "        [0.74, 0.80],\n",
            "        [0.66, 0.44]])"
          ]
        }
      ],
      "source": [
        "c_ntp = np.transpose(X)\n",
        "c_tp = torch.transpose(X,0,1)\n",
        "cein = torch.einsum('ij->ji',X)\n",
        "print(f'numpy: {c_ntp} \\npytorch: {c_tp}\\n \\neinsum: {cein}')"
      ],
      "id": "mat-transpose"
    },
    {
      "cell_type": "markdown",
      "metadata": {},
      "source": [
        "1.  Matrix summation  \n",
        "    Summing all value in the matrix that result in a scalar value"
      ],
      "id": "3bfa8906-617b-4c86-b998-e7d14152acd0"
    },
    {
      "cell_type": "code",
      "execution_count": 12,
      "metadata": {},
      "outputs": [
        {
          "output_type": "stream",
          "name": "stdout",
          "text": [
            "regular: 3.8526394367218018 \n",
            "einsum: 3.8526394367218018"
          ]
        }
      ],
      "source": [
        "#2. Summation\n",
        "cma = torch.sum(X)\n",
        "cein = torch.einsum('ij->',X)\n",
        "\n",
        "print(f'regular: {cma} \\neinsum: {cein}')"
      ],
      "id": "matrix-sum"
    },
    {
      "cell_type": "code",
      "execution_count": 13,
      "metadata": {},
      "outputs": [
        {
          "output_type": "display_data",
          "metadata": {},
          "data": {
            "text/plain": [
              "tensor([[0.25, 0.74, 0.66],\n",
              "        [0.96, 0.80, 0.44]])"
            ]
          }
        }
      ],
      "source": [
        "X"
      ],
      "id": "cell-26"
    },
    {
      "cell_type": "markdown",
      "metadata": {},
      "source": [
        "Row sum (Left to right)\n",
        "\n",
        "Add all values from each column together along the row"
      ],
      "id": "a94c4a8c-7946-4f26-81b5-97835aa8f7a8"
    },
    {
      "cell_type": "code",
      "execution_count": 14,
      "metadata": {},
      "outputs": [
        {
          "output_type": "stream",
          "name": "stdout",
          "text": [
            "regular: tensor([1.21, 1.54, 1.10]) \n",
            "einsum: tensor([1.65, 2.20])"
          ]
        }
      ],
      "source": [
        "#4 row summation\n",
        "# sum by columns\n",
        "rows = torch.sum(X,dim=0)\n",
        "cein = torch.einsum('ij->i',X)\n",
        "\n",
        "print(f'regular: {rows} \\neinsum: {cein}')"
      ],
      "id": "row-summation"
    },
    {
      "cell_type": "markdown",
      "metadata": {},
      "source": [
        "Column sum (Top down)\n",
        "\n",
        "Add all value from each row together along the column"
      ],
      "id": "07e5e398-5ded-4f2c-99ea-260f0a72be4a"
    },
    {
      "cell_type": "code",
      "execution_count": 15,
      "metadata": {},
      "outputs": [
        {
          "output_type": "stream",
          "name": "stdout",
          "text": [
            "regular: tensor([1.65, 2.20]) \n",
            "einsum: tensor([1.21, 1.54, 1.10])"
          ]
        }
      ],
      "source": [
        "#3 Column summation\n",
        "# sum by rows\n",
        "c_col = torch.sum(X,dim=1)\n",
        "cein = torch.einsum('ij->j',X)\n",
        "\n",
        "print(f'regular: {c_col} \\neinsum: {cein}')"
      ],
      "id": "column-summation"
    },
    {
      "cell_type": "markdown",
      "metadata": {},
      "source": [
        "5 matrix-vector multiplication  \n",
        "This a non equal dimension multiplication which in Python use\n",
        "broadcasting to padded (duplicate) the smaller vector to have equal size\n",
        "with the larger matrix before do multiplication"
      ],
      "id": "942ec630-d2aa-43db-b250-3ac28b8a0de6"
    },
    {
      "cell_type": "code",
      "execution_count": 16,
      "metadata": {},
      "outputs": [
        {
          "output_type": "stream",
          "name": "stdout",
          "text": [
            "regular: tensor([0.76]) \n",
            "einsum: tensor([0.76])"
          ]
        }
      ],
      "source": [
        "#5 matrix-vector multiplication\n",
        "L = torch.rand((1,3))\n",
        "M = torch.rand((3,))\n",
        "\n",
        "cmm = torch.matmul(L,M)\n",
        "cein = torch.einsum('ij,j->i',L,M)\n",
        "print(f'regular: {cmm} \\neinsum: {cein}')\n"
      ],
      "id": "matrix-vector"
    },
    {
      "cell_type": "markdown",
      "metadata": {},
      "source": [
        "6 matrix-matrix multiplication  \n",
        "This standard matrix to matrix multiplication which result in another\n",
        "matrix"
      ],
      "id": "5957c4b3-4c3f-48d3-a449-134d7718f095"
    },
    {
      "cell_type": "code",
      "execution_count": 17,
      "metadata": {},
      "outputs": [
        {
          "output_type": "stream",
          "name": "stdout",
          "text": [
            "regular: tensor([[2., 2., 2.],\n",
            "        [2., 2., 2.],\n",
            "        [2., 2., 2.]]) \n",
            "einsum: tensor([[2., 2., 2.],\n",
            "        [2., 2., 2.],\n",
            "        [2., 2., 2.]])"
          ]
        }
      ],
      "source": [
        "#6 matrix-matrix multiplication\n",
        "# torch.einsum('ij,kj->ik',M,M)\n",
        "\n",
        "a = torch.ones((3,2))\n",
        "b = torch.ones((2,3))\n",
        "cmm = torch.matmul(a,b)\n",
        "cein = torch.einsum('ij,jl->il',a,b)\n",
        "print(f'regular: {cmm} \\neinsum: {cein}')\n"
      ],
      "id": "matrix-matrix"
    },
    {
      "cell_type": "code",
      "execution_count": 18,
      "metadata": {},
      "outputs": [
        {
          "output_type": "display_data",
          "metadata": {},
          "data": {
            "text/plain": [
              "tensor([[0.98, 0.72],\n",
              "        [0.64, 0.60],\n",
              "        [1.58, 1.42]])"
            ]
          }
        }
      ],
      "source": [
        "N = torch.rand((3,3))\n",
        "M = torch.rand((2,3))\n",
        "torch.einsum('ij,kj->ik',N,M)"
      ],
      "id": "cell-35"
    },
    {
      "cell_type": "markdown",
      "metadata": {},
      "source": [
        "Dot product\n",
        "\n",
        "This a matrix multiplication that result in a scalar value. It’s usually\n",
        "called multiply add.  \n",
        "since after multiply the row to the column then the sum operation is\n",
        "carry out resulting as a scalar value\n",
        "\n",
        ":bulb:"
      ],
      "id": "9ff3b796-5c4b-42de-822e-f26b68c69a7e"
    },
    {
      "cell_type": "code",
      "execution_count": 19,
      "metadata": {},
      "outputs": [
        {
          "output_type": "stream",
          "name": "stdout",
          "text": [
            "c: tensor([0.38, 0.88, 0.10]), c: torch.Size([3])\n",
            "c_dot: 0.3021569550037384\n",
            "regular: 0.3021569550037384 \n",
            "  einsum: 0.3021569550037384"
          ]
        }
      ],
      "source": [
        "# dot product of a matrix (multiply + add)\n",
        "#torch.einsum('ij,ij->',N,N)\n",
        "\n",
        "# c = torch.tensor([2,3])\n",
        "# d = torch.tensor([2,1])\n",
        "c = torch.rand((3))\n",
        "d = torch.rand((3))\n",
        "\n",
        "c_dot = torch.dot(c,d)\n",
        "cein = torch.einsum('i,i->',c,d)\n",
        "\n",
        "print(f'c: {c}, c: {c.shape}')\n",
        "print(f'c_dot: {c_dot}')\n",
        "print(f'regular: {c_dot} \\n  einsum: {cein}')"
      ],
      "id": "dot-product"
    },
    {
      "cell_type": "code",
      "execution_count": 20,
      "metadata": {},
      "outputs": [
        {
          "output_type": "display_data",
          "metadata": {},
          "data": {
            "text/plain": [
              "tensor(0.89)"
            ]
          }
        }
      ],
      "source": [
        "# dot product of only the first row of a matrix with first row of a matrix\n",
        "torch.einsum('i,i->',N[0],N[0])"
      ],
      "id": "cell-38"
    },
    {
      "cell_type": "markdown",
      "metadata": {},
      "source": [
        "Hadamard Product Element wise multiplication (multiply only)  \n",
        "This is a normal matrix multiplication which different from multiply add\n",
        "or dot product"
      ],
      "id": "066d9680-1a99-4917-80c2-69bfcf904dfd"
    },
    {
      "cell_type": "code",
      "execution_count": 21,
      "metadata": {},
      "outputs": [
        {
          "output_type": "stream",
          "name": "stdout",
          "text": [
            "regular: tensor([[ 1.20,  0.97],\n",
            "        [ 0.14, -0.19],\n",
            "        [-0.17, -0.11]]) \n",
            "  einsum: tensor([[ 1.20,  0.97],\n",
            "        [ 0.14, -0.19],\n",
            "        [-0.17, -0.11]])"
          ]
        }
      ],
      "source": [
        "# element wise multiplication (multiply only)\n",
        "# torch.einsum('ij,ij->ij',N,N)\n",
        "\n",
        "c = torch.randn((3,2))\n",
        "d = torch.randn((3,2))\n",
        "cmm = c * d\n",
        "cein = torch.einsum('ij,ij->ij',c,d)\n",
        "print(f'regular: {cmm} \\n  einsum: {cein}')"
      ],
      "id": "hadamard-product"
    },
    {
      "cell_type": "markdown",
      "metadata": {},
      "source": [
        "Outer Product\n",
        "\n",
        "Multiply vector of different size to get a matrix as output In eisum\n",
        "must use different letter for index to represent size different"
      ],
      "id": "3304a901-7f0a-4a6c-99dc-d12e0c59508f"
    },
    {
      "cell_type": "code",
      "execution_count": 22,
      "metadata": {},
      "outputs": [
        {
          "output_type": "stream",
          "name": "stdout",
          "text": [
            "x: tensor([0.91, 0.93, 0.21]), x: torch.Size([3])\n",
            "y: tensor([0.98, 0.62, 0.25, 0.90, 0.21]), y: torch.Size([5])\n",
            "regular: tensor([[0.89, 0.56, 0.23, 0.81, 0.19],\n",
            "        [0.91, 0.57, 0.23, 0.83, 0.19],\n",
            "        [0.20, 0.13, 0.05, 0.18, 0.04]]) \n",
            "  einsum: tensor([[0.89, 0.56, 0.23, 0.81, 0.19],\n",
            "        [0.91, 0.57, 0.23, 0.83, 0.19],\n",
            "        [0.20, 0.13, 0.05, 0.18, 0.04]])"
          ]
        }
      ],
      "source": [
        "# outer product (inner product)\n",
        "x = torch.rand(3)\n",
        "y = torch.rand(5)\n",
        "print(f'x: {x}, x: {x.shape}')\n",
        "print(f'y: {y}, y: {y.shape}')\n",
        "\n",
        "c_outer = torch.outer(x,y)\n",
        "cein = torch.einsum('i,j->ij',x,y)\n",
        "print(f'regular: {c_outer} \\n  einsum: {cein}')"
      ],
      "id": "outer-product"
    },
    {
      "cell_type": "markdown",
      "metadata": {},
      "source": [
        "Batch matrix multiplication  \n",
        "Multiply matrix by the set of n, where n is batch size\n",
        "\n",
        "want to multiply 3 set of the matrix of 2x6 with 6x3 matrix  \n",
        "the first number is the batch size must match but not count as index so\n",
        "i is ignore  \n",
        "the mxn \\* nxp must match with n"
      ],
      "id": "3477d585-20b4-436c-8967-3268c974f624"
    },
    {
      "cell_type": "code",
      "execution_count": 23,
      "metadata": {},
      "outputs": [
        {
          "output_type": "stream",
          "name": "stdout",
          "text": [
            "regular: tensor([[[1.55, 1.48, 1.68],\n",
            "         [1.26, 1.02, 1.42]],\n",
            "\n",
            "        [[1.81, 1.20, 1.37],\n",
            "         [1.91, 0.71, 0.93]],\n",
            "\n",
            "        [[0.75, 0.92, 1.20],\n",
            "         [1.32, 1.29, 1.85]]])\n",
            " numpy: tensor([[[1.55, 1.48, 1.68],\n",
            "         [1.26, 1.02, 1.42]],\n",
            "\n",
            "        [[1.81, 1.20, 1.37],\n",
            "         [1.91, 0.71, 0.93]],\n",
            "\n",
            "        [[0.75, 0.92, 1.20],\n",
            "         [1.32, 1.29, 1.85]]]) \n",
            "  einsum: tensor([[[1.55, 1.48, 1.68],\n",
            "         [1.26, 1.02, 1.42]],\n",
            "\n",
            "        [[1.81, 1.20, 1.37],\n",
            "         [1.91, 0.71, 0.93]],\n",
            "\n",
            "        [[0.75, 0.92, 1.20],\n",
            "         [1.32, 1.29, 1.85]]])"
          ]
        }
      ],
      "source": [
        "# batch matrix multiplicaton\n",
        "# want to multiply 3 set of the matrix of 2x6 with 6x3 matrix\n",
        "# the first number is the batch size must match but not count as index so i is ignore\n",
        "# the mxn * nxp must match with n\n",
        "R = torch.rand(3,2,6)\n",
        "S = torch.rand(3,6,3)\n",
        "cmn = np.matmul(R,S)\n",
        "cmm = torch.matmul(R,S)\n",
        "\n",
        "cein = torch.einsum('ijk,ikl->ijl',R,S)\n",
        "\n",
        "print(f'regular: {cmm}\\n numpy: {cmn} \\n  einsum: {cein}')"
      ],
      "id": "batch-matrix"
    },
    {
      "cell_type": "markdown",
      "metadata": {},
      "source": [
        "Diagonal Matrix return the vector of value along the diagonal of a\n",
        "matrix"
      ],
      "id": "12180069-e3e8-45e8-a2ff-6fd15ec5f8d4"
    },
    {
      "cell_type": "code",
      "execution_count": 24,
      "metadata": {},
      "outputs": [
        {
          "output_type": "stream",
          "name": "stdout",
          "text": [
            "T: tensor([[0.33, 0.11, 0.63],\n",
            "        [0.60, 0.82, 0.28],\n",
            "        [0.08, 0.99, 0.18]]) \n",
            "T shape: torch.Size([3, 3])\n",
            "regular: tensor([0.33, 0.82, 0.18]) \n",
            "  einsum: tensor([0.33, 0.82, 0.18])"
          ]
        }
      ],
      "source": [
        "# Diagonal matrix return only the diagonal value of a matrix\n",
        "\n",
        "T = torch.rand(3,3)\n",
        "\n",
        "cein = torch.einsum('ii->i',T)\n",
        "print(f'T: {T} \\nT shape: {T.shape}')\n",
        "c_diag = torch.diag(T)\n",
        "\n",
        "print(f'regular: {c_diag} \\n  einsum: {cein}')\n"
      ],
      "id": "diag-mat"
    },
    {
      "cell_type": "code",
      "execution_count": 25,
      "metadata": {},
      "outputs": [],
      "source": [
        "# torch.einsum('ii->i',T)"
      ],
      "id": "cell-47"
    },
    {
      "cell_type": "markdown",
      "metadata": {},
      "source": [
        "Trace\n",
        "\n",
        "Take the sum of all values along the diagonal axix of a matrix"
      ],
      "id": "9097b618-69a4-4c7a-a09b-6a9aea7135b1"
    },
    {
      "cell_type": "code",
      "execution_count": 26,
      "metadata": {},
      "outputs": [
        {
          "output_type": "stream",
          "name": "stdout",
          "text": [
            "T: tensor([[0.33, 0.11, 0.63],\n",
            "        [0.60, 0.82, 0.28],\n",
            "        [0.08, 0.99, 0.18]])\n",
            "regular: 1.3291736841201782 \n",
            "  einsum: 1.3291736841201782"
          ]
        }
      ],
      "source": [
        "# matrix trace\n",
        "\n",
        "c_trace = torch.trace(T)\n",
        "cein = torch.einsum('ii->',T)\n",
        "print(f'T: {T}')\n",
        "print(f'regular: {c_trace} \\n  einsum: {cein}')"
      ],
      "id": "trace"
    },
    {
      "cell_type": "markdown",
      "metadata": {},
      "source": [
        "Tensor Contraction  \n",
        "Shrinking the dimension of the tensor  \n",
        "must provide the dimension to be ignored"
      ],
      "id": "36a036be-f515-4ec1-b975-e6721cf0386f"
    },
    {
      "cell_type": "code",
      "execution_count": 27,
      "metadata": {},
      "outputs": [
        {
          "output_type": "stream",
          "name": "stdout",
          "text": [
            "value: torch.Size([3, 4, 2]) value2: torch.Size([4, 3, 6])\n",
            "regular: tensor([[3.72, 2.19, 3.15, 3.26, 2.88, 1.90],\n",
            "        [5.16, 3.22, 4.84, 4.64, 4.52, 3.33]]) \n",
            "  einsum: tensor([[3.72, 2.19, 3.15, 3.26, 2.88, 1.90],\n",
            "        [5.16, 3.22, 4.84, 4.64, 4.52, 3.33]])"
          ]
        }
      ],
      "source": [
        "o = torch.rand((3,4,2))\n",
        "p = torch.rand((4,3,6))\n",
        "print(f'value: {o.shape} value2: {p.shape}')\n",
        "\n",
        "c_tdot = torch.tensordot(o,p,dims=([1,0],[0,1]))\n",
        "cein = torch.einsum('ijk,jil->kl',o,p)\n",
        "print(f'regular: {c_tdot} \\n  einsum: {cein}')"
      ],
      "id": "contraction"
    },
    {
      "cell_type": "markdown",
      "metadata": {},
      "source": [
        "Bilinear transformation"
      ],
      "id": "465e03b6-875d-4de1-9b5d-1aab817e7ec2"
    },
    {
      "cell_type": "code",
      "execution_count": 28,
      "metadata": {},
      "outputs": [
        {
          "output_type": "display_data",
          "metadata": {},
          "data": {
            "text/plain": [
              "tensor([[3.12, 3.11, 2.71, 3.34, 2.55],\n",
              "        [3.39, 2.72, 2.68, 3.09, 2.96]])"
            ]
          }
        }
      ],
      "source": [
        "a = torch.rand(2,3)\n",
        "b = torch.rand(5,3,7)\n",
        "c = torch.rand(2,7)\n",
        "\n",
        "torch.einsum('ik,jkl,il->ij',[a,b,c])"
      ],
      "id": "cell-53"
    }
  ],
  "nbformat": 4,
  "nbformat_minor": 5,
  "metadata": {
    "kernelspec": {
      "name": "python3",
      "display_name": "Python 3 (ipykernel)",
      "language": "python"
    },
    "language_info": {
      "name": "python",
      "codemirror_mode": {
        "name": "ipython",
        "version": "3"
      },
      "file_extension": ".py",
      "mimetype": "text/x-python",
      "nbconvert_exporter": "python",
      "pygments_lexer": "ipython3",
      "version": "3.11.2"
    }
  }
}