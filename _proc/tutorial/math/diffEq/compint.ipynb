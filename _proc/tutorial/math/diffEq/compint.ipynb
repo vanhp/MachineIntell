{
  "cells": [
    {
      "cell_type": "raw",
      "metadata": {},
      "source": [
        "---\n",
        "title: Compound Interest\n",
        "subtitle: Learn the tips and tricks from veterans in Machine Learning\n",
        "about:\n",
        "  template: marquee\n",
        "  image: ../../../images/gradientv12.jpg\n",
        " \n",
        "  image-shape: rounded\n",
        "  links:\n",
        "    - icon: twitter\n",
        "      text: twitter\n",
        "      href: https://twitter.com\n",
        "    - icon: github\n",
        "      text: Github\n",
        "      href: https://github.com\n",
        "listing:\n",
        "  sort: \"date desc\"\n",
        "  contents: \"posts\"\n",
        "  sort-ui: false\n",
        "  filter-ui: false\n",
        "  categories: true\n",
        "  feed: true\n",
        "\n",
        "page-layout: full\n",
        "---"
      ],
      "id": "e8f4768e"
    },
    {
      "cell_type": "markdown",
      "metadata": {},
      "source": [
        "![](/images/ai-pic7cp.jpg)\n"
      ],
      "id": "7c63344b"
    },
    {
      "cell_type": "raw",
      "metadata": {},
      "source": [
        "---\n",
        "title: \"Compoun Interest of Bank \"\n",
        "author: \"Vanh Phom\"\n",
        "date: \"11/01/2022\"\n",
        "format:\n",
        "  html:\n",
        "    code-fold: true\n",
        "\n",
        "---"
      ],
      "id": "096eba2a"
    },
    {
      "cell_type": "markdown",
      "metadata": {},
      "source": [
        "## Parametric Plots\n",
        "\n",
        "Plot function pair (x(u), y(u)). \n",
        "See @fig-parametric for an example.\n"
      ],
      "id": "d83ed522"
    },
    {
      "cell_type": "code",
      "metadata": {},
      "source": [
        "#| label: fig-parametric\n",
        "#| fig-cap: Parametric Plots\n",
        "\n",
        "using Plots\n",
        "\n",
        "plot(sin, \n",
        "     x->sin(2x), \n",
        "     0, \n",
        "     2π, \n",
        "     leg=false, \n",
        "     fill=(0,:lavender))"
      ],
      "id": "fig-parametric",
      "execution_count": null,
      "outputs": []
    }
  ],
  "metadata": {
    "kernelspec": {
      "name": "julia-1.8",
      "language": "julia",
      "display_name": "Julia 1.8.0"
    }
  },
  "nbformat": 4,
  "nbformat_minor": 5
}