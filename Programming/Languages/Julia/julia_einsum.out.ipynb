{
  "cells": [
    {
      "cell_type": "markdown",
      "metadata": {},
      "source": [
        "#"
      ],
      "id": "c48020ec-d93b-4136-aacc-42d1cabe36f8"
    },
    {
      "cell_type": "code",
      "execution_count": 1,
      "metadata": {},
      "outputs": [],
      "source": [
        "using OMEinsum, LinearAlgebra,SymEngine\n",
        "\n",
        "OMEinsum.asarray(a::Number, ::Diagonal) = fill(a,())"
      ],
      "id": "6833eb8b-3fb0-436a-a5bb-943d4ff1da3b"
    },
    {
      "cell_type": "code",
      "execution_count": 2,
      "metadata": {},
      "outputs": [
        {
          "output_type": "display_data",
          "metadata": {},
          "data": {
            "text/plain": [
              "0-dimensional Array{Int64, 0}:\n",
              "6"
            ]
          }
        }
      ],
      "source": [
        "ein\"ij -> \"(Diagonal([1,2,3]))"
      ],
      "id": "c185f71f-e0d1-4eb0-931e-55158a715ff3"
    },
    {
      "cell_type": "code",
      "execution_count": 3,
      "metadata": {},
      "outputs": [],
      "source": [
        "function OMEinsum.einsum(::OMEinsum.Sum, ixs, iy, xs::Tuple{<:Diagonal}, size_dict::Dict)\n",
        "    length(iy) == 1 && return diag(xs[1])\n",
        "    return sum(diag(xs[1]))\n",
        "end"
      ],
      "id": "51f79504-d724-4091-8451-d95533ce5eaa"
    },
    {
      "cell_type": "code",
      "execution_count": 4,
      "metadata": {},
      "outputs": [
        {
          "output_type": "display_data",
          "metadata": {},
          "data": {
            "text/plain": [
              "3-element Vector{Int64}:\n",
              " 1\n",
              " 2\n",
              " 3"
            ]
          }
        }
      ],
      "source": [
        "ein\"ij -> i\"(Diagonal([1,2,3]))"
      ],
      "id": "c838a4a1-d8cf-4717-ad0e-e3d6bccbb4ba"
    },
    {
      "cell_type": "code",
      "execution_count": 5,
      "metadata": {},
      "outputs": [
        {
          "output_type": "display_data",
          "metadata": {},
          "data": {
            "text/plain": [
              "2×3×2 Array{Basic, 3}:\n",
              "[:, :, 1] =\n",
              " 🐟  🐟  🐟\n",
              " 🐟  🐟  🐟\n",
              "\n",
              "[:, :, 2] =\n",
              " 🐟  🐟  🐟\n",
              " 🐟  🐟  🐟"
            ]
          }
        }
      ],
      "source": [
        "fish = fill(Basic(:🐟), 2, 3, 2)"
      ],
      "id": "22d26e83"
    },
    {
      "cell_type": "code",
      "execution_count": 6,
      "metadata": {},
      "outputs": [
        {
          "output_type": "display_data",
          "metadata": {},
          "data": {
            "text/plain": [
              "2×2 Matrix{Basic}:\n",
              " 🐱  🐱\n",
              " 🐱  🐱"
            ]
          }
        }
      ],
      "source": [
        "catty = fill(Basic(:🐱), 2, 2)"
      ],
      "id": "c301bdad-b32a-49c0-9dca-f718d4f6e60f"
    },
    {
      "cell_type": "code",
      "execution_count": 7,
      "metadata": {},
      "outputs": [
        {
          "output_type": "display_data",
          "metadata": {},
          "data": {
            "text/plain": [
              "3×3 Matrix{Basic}:\n",
              " 🐍  🐍  🐍\n",
              " 🐍  🐍  🐍\n",
              " 🐍  🐍  🐍"
            ]
          }
        }
      ],
      "source": [
        "snake = fill(Basic(:🐍), 3, 3)"
      ],
      "id": "cell-snake"
    },
    {
      "cell_type": "code",
      "execution_count": 8,
      "metadata": {},
      "outputs": [
        {
          "output_type": "display_data",
          "metadata": {},
          "data": {
            "text/plain": [
              "3-element Vector{Basic}:\n",
              " 4*🐱*🐍*🐟\n",
              " 4*🐱*🐍*🐟\n",
              " 4*🐱*🐍*🐟"
            ]
          }
        }
      ],
      "source": [
        "medicine = ein\"ij,jki,kk->k\"(catty, fish, snake)"
      ],
      "id": "98690f0f"
    },
    {
      "cell_type": "code",
      "execution_count": 9,
      "metadata": {},
      "outputs": [
        {
          "output_type": "display_data",
          "metadata": {},
          "data": {
            "text/plain": [
              "2×2 Matrix{Basic}:\n",
              " 2*🐱^2  2*🐱^2\n",
              " 2*🐱^2  2*🐱^2"
            ]
          }
        }
      ],
      "source": [
        "ein\"ik,kj -> ij\"(catty, catty) # multiply two matrices `a` and `b`"
      ],
      "id": "0d74d0f8"
    },
    {
      "cell_type": "code",
      "execution_count": 10,
      "metadata": {},
      "outputs": [
        {
          "output_type": "display_data",
          "metadata": {},
          "data": {
            "text/plain": [
              "5×5 Matrix{Basic}:\n",
              " 🐍   0   0   0   0\n",
              "  0  🐍   0   0   0\n",
              "  0   0  🐍   0   0\n",
              "  0   0   0  🐍   0\n",
              "  0   0   0   0  🐍"
            ]
          }
        }
      ],
      "source": [
        "ein\"->ii\"(asarray(snake[1,1]), size_info=Dict('i'=>5)) # get 5 x 5 identity matrix"
      ],
      "id": "cell-diagonal_mat"
    }
  ],
  "nbformat": 4,
  "nbformat_minor": 5,
  "metadata": {
    "kernelspec": {
      "name": "julia-1.9",
      "display_name": "Julia 1.9.0",
      "language": "julia"
    },
    "language_info": {
      "name": "julia",
      "file_extension": ".jl",
      "mimetype": "application/julia",
      "version": "1.9.0"
    }
  }
}